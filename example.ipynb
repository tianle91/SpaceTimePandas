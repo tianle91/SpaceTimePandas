{
 "cells": [
  {
   "cell_type": "code",
   "execution_count": 1,
   "id": "15e7b630",
   "metadata": {},
   "outputs": [],
   "source": [
    "from datetime import date\n",
    "from stpd import OpenWeatherMap, ClimateWeatherGC, SimpleMaps"
   ]
  },
  {
   "cell_type": "code",
   "execution_count": 2,
   "id": "bf8ed1e9",
   "metadata": {},
   "outputs": [],
   "source": [
    "# Toronto\n",
    "lat=43.700111\n",
    "lon=-79.416298\n",
    "start_date = date(2021, 5, 7)\n",
    "end_date = date(2021, 5, 9)"
   ]
  },
  {
   "cell_type": "markdown",
   "id": "d19c853b",
   "metadata": {},
   "source": [
    "# OpenWeatherMap"
   ]
  },
  {
   "cell_type": "code",
   "execution_count": 3,
   "id": "cb47cf5c",
   "metadata": {},
   "outputs": [],
   "source": [
    "with open('openweathermap.secret') as f:\n",
    "    api_key = f.read().strip()"
   ]
  },
  {
   "cell_type": "code",
   "execution_count": 4,
   "id": "5b79e8ee",
   "metadata": {},
   "outputs": [],
   "source": [
    "owm = OpenWeatherMap(lat=lat, lon=lon, api_key=api_key)"
   ]
  },
  {
   "cell_type": "code",
   "execution_count": 5,
   "id": "ec161b15",
   "metadata": {},
   "outputs": [
    {
     "output_type": "execute_result",
     "data": {
      "text/plain": [
       "                          dt   temp  feels_like  pressure  humidity  \\\n",
       "43 2021-05-12 18:00:00-04:00  12.90       11.24    1026.0      38.0   \n",
       "44 2021-05-12 19:00:00-04:00  12.41       10.86    1026.0      44.0   \n",
       "45 2021-05-12 20:00:00-04:00  11.23        9.71    1026.0      50.0   \n",
       "46 2021-05-12 21:00:00-04:00   9.94        8.24    1027.0      56.0   \n",
       "47 2021-05-12 22:00:00-04:00   9.01        6.94    1028.0      62.0   \n",
       "\n",
       "    dew_point   uvi  clouds  visibility  wind_speed  wind_deg  wind_gust  \\\n",
       "43      -0.94  1.11     1.0     10000.0        5.83     325.0       7.72   \n",
       "44       0.80  0.41     1.0     10000.0        4.92     330.0       7.83   \n",
       "45       1.37  0.09     1.0     10000.0        4.00     330.0       8.10   \n",
       "46       1.86  0.00     1.0     10000.0        3.37     321.0       8.40   \n",
       "47       2.39  0.00     2.0     10000.0        3.69     311.0       9.41   \n",
       "\n",
       "                                              weather  pop  \n",
       "43  [{'id': 800, 'main': 'Clear', 'description': '...  0.0  \n",
       "44  [{'id': 800, 'main': 'Clear', 'description': '...  0.0  \n",
       "45  [{'id': 800, 'main': 'Clear', 'description': '...  0.0  \n",
       "46  [{'id': 800, 'main': 'Clear', 'description': '...  0.0  \n",
       "47  [{'id': 800, 'main': 'Clear', 'description': '...  0.0  "
      ],
      "text/html": "<div>\n<style scoped>\n    .dataframe tbody tr th:only-of-type {\n        vertical-align: middle;\n    }\n\n    .dataframe tbody tr th {\n        vertical-align: top;\n    }\n\n    .dataframe thead th {\n        text-align: right;\n    }\n</style>\n<table border=\"1\" class=\"dataframe\">\n  <thead>\n    <tr style=\"text-align: right;\">\n      <th></th>\n      <th>dt</th>\n      <th>temp</th>\n      <th>feels_like</th>\n      <th>pressure</th>\n      <th>humidity</th>\n      <th>dew_point</th>\n      <th>uvi</th>\n      <th>clouds</th>\n      <th>visibility</th>\n      <th>wind_speed</th>\n      <th>wind_deg</th>\n      <th>wind_gust</th>\n      <th>weather</th>\n      <th>pop</th>\n    </tr>\n  </thead>\n  <tbody>\n    <tr>\n      <th>43</th>\n      <td>2021-05-12 18:00:00-04:00</td>\n      <td>12.90</td>\n      <td>11.24</td>\n      <td>1026.0</td>\n      <td>38.0</td>\n      <td>-0.94</td>\n      <td>1.11</td>\n      <td>1.0</td>\n      <td>10000.0</td>\n      <td>5.83</td>\n      <td>325.0</td>\n      <td>7.72</td>\n      <td>[{'id': 800, 'main': 'Clear', 'description': '...</td>\n      <td>0.0</td>\n    </tr>\n    <tr>\n      <th>44</th>\n      <td>2021-05-12 19:00:00-04:00</td>\n      <td>12.41</td>\n      <td>10.86</td>\n      <td>1026.0</td>\n      <td>44.0</td>\n      <td>0.80</td>\n      <td>0.41</td>\n      <td>1.0</td>\n      <td>10000.0</td>\n      <td>4.92</td>\n      <td>330.0</td>\n      <td>7.83</td>\n      <td>[{'id': 800, 'main': 'Clear', 'description': '...</td>\n      <td>0.0</td>\n    </tr>\n    <tr>\n      <th>45</th>\n      <td>2021-05-12 20:00:00-04:00</td>\n      <td>11.23</td>\n      <td>9.71</td>\n      <td>1026.0</td>\n      <td>50.0</td>\n      <td>1.37</td>\n      <td>0.09</td>\n      <td>1.0</td>\n      <td>10000.0</td>\n      <td>4.00</td>\n      <td>330.0</td>\n      <td>8.10</td>\n      <td>[{'id': 800, 'main': 'Clear', 'description': '...</td>\n      <td>0.0</td>\n    </tr>\n    <tr>\n      <th>46</th>\n      <td>2021-05-12 21:00:00-04:00</td>\n      <td>9.94</td>\n      <td>8.24</td>\n      <td>1027.0</td>\n      <td>56.0</td>\n      <td>1.86</td>\n      <td>0.00</td>\n      <td>1.0</td>\n      <td>10000.0</td>\n      <td>3.37</td>\n      <td>321.0</td>\n      <td>8.40</td>\n      <td>[{'id': 800, 'main': 'Clear', 'description': '...</td>\n      <td>0.0</td>\n    </tr>\n    <tr>\n      <th>47</th>\n      <td>2021-05-12 22:00:00-04:00</td>\n      <td>9.01</td>\n      <td>6.94</td>\n      <td>1028.0</td>\n      <td>62.0</td>\n      <td>2.39</td>\n      <td>0.00</td>\n      <td>2.0</td>\n      <td>10000.0</td>\n      <td>3.69</td>\n      <td>311.0</td>\n      <td>9.41</td>\n      <td>[{'id': 800, 'main': 'Clear', 'description': '...</td>\n      <td>0.0</td>\n    </tr>\n  </tbody>\n</table>\n</div>"
     },
     "metadata": {},
     "execution_count": 5
    }
   ],
   "source": [
    "owm.get_hourly_forecast().tail()"
   ]
  },
  {
   "cell_type": "code",
   "execution_count": 6,
   "id": "9fc82c8f",
   "metadata": {},
   "outputs": [
    {
     "output_type": "execute_result",
     "data": {
      "text/plain": [
       "                          dt   temp  feels_like  pressure  humidity  \\\n",
       "55 2021-05-09 15:00:00-04:00  10.96        6.94    1011.0      40.0   \n",
       "56 2021-05-09 16:00:00-04:00  11.31        6.96    1011.0      40.0   \n",
       "57 2021-05-09 17:00:00-04:00  11.46        7.22    1011.0      37.0   \n",
       "58 2021-05-09 18:00:00-04:00  11.43        7.48    1010.0      35.0   \n",
       "59 2021-05-09 19:00:00-04:00  10.80        7.40    1010.0      32.0   \n",
       "\n",
       "    dew_point  clouds  wind_speed  wind_deg  wind_gust  \\\n",
       "55      -1.86   100.0        2.50     139.0       2.25   \n",
       "56      -1.58   100.0        3.02     153.0       2.41   \n",
       "57      -2.40   100.0        2.70     144.0       2.49   \n",
       "58      -3.08   100.0        2.16     152.0       2.45   \n",
       "59      -4.63   100.0        1.10     107.0       2.02   \n",
       "\n",
       "                                              weather  visibility rain  \n",
       "55  [{'id': 804, 'main': 'Clouds', 'description': ...         NaN  NaN  \n",
       "56  [{'id': 804, 'main': 'Clouds', 'description': ...         NaN  NaN  \n",
       "57  [{'id': 804, 'main': 'Clouds', 'description': ...         NaN  NaN  \n",
       "58  [{'id': 804, 'main': 'Clouds', 'description': ...         NaN  NaN  \n",
       "59  [{'id': 804, 'main': 'Clouds', 'description': ...         NaN  NaN  "
      ],
      "text/html": "<div>\n<style scoped>\n    .dataframe tbody tr th:only-of-type {\n        vertical-align: middle;\n    }\n\n    .dataframe tbody tr th {\n        vertical-align: top;\n    }\n\n    .dataframe thead th {\n        text-align: right;\n    }\n</style>\n<table border=\"1\" class=\"dataframe\">\n  <thead>\n    <tr style=\"text-align: right;\">\n      <th></th>\n      <th>dt</th>\n      <th>temp</th>\n      <th>feels_like</th>\n      <th>pressure</th>\n      <th>humidity</th>\n      <th>dew_point</th>\n      <th>clouds</th>\n      <th>wind_speed</th>\n      <th>wind_deg</th>\n      <th>wind_gust</th>\n      <th>weather</th>\n      <th>visibility</th>\n      <th>rain</th>\n    </tr>\n  </thead>\n  <tbody>\n    <tr>\n      <th>55</th>\n      <td>2021-05-09 15:00:00-04:00</td>\n      <td>10.96</td>\n      <td>6.94</td>\n      <td>1011.0</td>\n      <td>40.0</td>\n      <td>-1.86</td>\n      <td>100.0</td>\n      <td>2.50</td>\n      <td>139.0</td>\n      <td>2.25</td>\n      <td>[{'id': 804, 'main': 'Clouds', 'description': ...</td>\n      <td>NaN</td>\n      <td>NaN</td>\n    </tr>\n    <tr>\n      <th>56</th>\n      <td>2021-05-09 16:00:00-04:00</td>\n      <td>11.31</td>\n      <td>6.96</td>\n      <td>1011.0</td>\n      <td>40.0</td>\n      <td>-1.58</td>\n      <td>100.0</td>\n      <td>3.02</td>\n      <td>153.0</td>\n      <td>2.41</td>\n      <td>[{'id': 804, 'main': 'Clouds', 'description': ...</td>\n      <td>NaN</td>\n      <td>NaN</td>\n    </tr>\n    <tr>\n      <th>57</th>\n      <td>2021-05-09 17:00:00-04:00</td>\n      <td>11.46</td>\n      <td>7.22</td>\n      <td>1011.0</td>\n      <td>37.0</td>\n      <td>-2.40</td>\n      <td>100.0</td>\n      <td>2.70</td>\n      <td>144.0</td>\n      <td>2.49</td>\n      <td>[{'id': 804, 'main': 'Clouds', 'description': ...</td>\n      <td>NaN</td>\n      <td>NaN</td>\n    </tr>\n    <tr>\n      <th>58</th>\n      <td>2021-05-09 18:00:00-04:00</td>\n      <td>11.43</td>\n      <td>7.48</td>\n      <td>1010.0</td>\n      <td>35.0</td>\n      <td>-3.08</td>\n      <td>100.0</td>\n      <td>2.16</td>\n      <td>152.0</td>\n      <td>2.45</td>\n      <td>[{'id': 804, 'main': 'Clouds', 'description': ...</td>\n      <td>NaN</td>\n      <td>NaN</td>\n    </tr>\n    <tr>\n      <th>59</th>\n      <td>2021-05-09 19:00:00-04:00</td>\n      <td>10.80</td>\n      <td>7.40</td>\n      <td>1010.0</td>\n      <td>32.0</td>\n      <td>-4.63</td>\n      <td>100.0</td>\n      <td>1.10</td>\n      <td>107.0</td>\n      <td>2.02</td>\n      <td>[{'id': 804, 'main': 'Clouds', 'description': ...</td>\n      <td>NaN</td>\n      <td>NaN</td>\n    </tr>\n  </tbody>\n</table>\n</div>"
     },
     "metadata": {},
     "execution_count": 6
    }
   ],
   "source": [
    "owm.get_historical(start_date, end_date).tail()"
   ]
  },
  {
   "cell_type": "markdown",
   "id": "bb9cf0fb",
   "metadata": {},
   "source": [
    "# climate.weather.gc.ca"
   ]
  },
  {
   "cell_type": "code",
   "execution_count": 7,
   "id": "1d8175fe",
   "metadata": {},
   "outputs": [],
   "source": [
    "cwgc = ClimateWeatherGC(lat, lon)"
   ]
  },
  {
   "cell_type": "code",
   "execution_count": 8,
   "id": "698362f7",
   "metadata": {
    "scrolled": false
   },
   "outputs": [
    {
     "output_type": "execute_result",
     "data": {
      "text/plain": [
       "    Longitude (x)  Latitude (y)  Station Name Climate ID   Date/Time (LST)  \\\n",
       "67          -79.4         43.67  TORONTO CITY    6158355  2021-05-09 19:00   \n",
       "68          -79.4         43.67  TORONTO CITY    6158355  2021-05-09 20:00   \n",
       "69          -79.4         43.67  TORONTO CITY    6158355  2021-05-09 21:00   \n",
       "70          -79.4         43.67  TORONTO CITY    6158355  2021-05-09 22:00   \n",
       "71          -79.4         43.67  TORONTO CITY    6158355  2021-05-09 23:00   \n",
       "\n",
       "    Year  Month  Day Time (LST)  Temp (°C)  ... Visibility (km)  \\\n",
       "67  2021      5    9      19:00        8.9  ...             NaN   \n",
       "68  2021      5    9      20:00        8.1  ...             NaN   \n",
       "69  2021      5    9      21:00        7.8  ...             NaN   \n",
       "70  2021      5    9      22:00        8.1  ...             NaN   \n",
       "71  2021      5    9      23:00        8.7  ...             NaN   \n",
       "\n",
       "    Visibility Flag Stn Press (kPa)  Stn Press Flag Hmdx  Hmdx Flag  \\\n",
       "67              NaN           99.79             NaN  NaN        NaN   \n",
       "68              NaN           99.84             NaN  NaN        NaN   \n",
       "69              NaN           99.90             NaN  NaN        NaN   \n",
       "70              NaN           99.96             NaN  NaN        NaN   \n",
       "71              NaN           99.92             NaN  NaN        NaN   \n",
       "\n",
       "   Wind Chill  Wind Chill Flag Weather                        dt  \n",
       "67        NaN              NaN     NaN 2021-05-09 19:00:00-04:00  \n",
       "68        NaN              NaN     NaN 2021-05-09 20:00:00-04:00  \n",
       "69        NaN              NaN     NaN 2021-05-09 21:00:00-04:00  \n",
       "70        NaN              NaN     NaN 2021-05-09 22:00:00-04:00  \n",
       "71        NaN              NaN     NaN 2021-05-09 23:00:00-04:00  \n",
       "\n",
       "[5 rows x 31 columns]"
      ],
      "text/html": "<div>\n<style scoped>\n    .dataframe tbody tr th:only-of-type {\n        vertical-align: middle;\n    }\n\n    .dataframe tbody tr th {\n        vertical-align: top;\n    }\n\n    .dataframe thead th {\n        text-align: right;\n    }\n</style>\n<table border=\"1\" class=\"dataframe\">\n  <thead>\n    <tr style=\"text-align: right;\">\n      <th></th>\n      <th>Longitude (x)</th>\n      <th>Latitude (y)</th>\n      <th>Station Name</th>\n      <th>Climate ID</th>\n      <th>Date/Time (LST)</th>\n      <th>Year</th>\n      <th>Month</th>\n      <th>Day</th>\n      <th>Time (LST)</th>\n      <th>Temp (°C)</th>\n      <th>...</th>\n      <th>Visibility (km)</th>\n      <th>Visibility Flag</th>\n      <th>Stn Press (kPa)</th>\n      <th>Stn Press Flag</th>\n      <th>Hmdx</th>\n      <th>Hmdx Flag</th>\n      <th>Wind Chill</th>\n      <th>Wind Chill Flag</th>\n      <th>Weather</th>\n      <th>dt</th>\n    </tr>\n  </thead>\n  <tbody>\n    <tr>\n      <th>67</th>\n      <td>-79.4</td>\n      <td>43.67</td>\n      <td>TORONTO CITY</td>\n      <td>6158355</td>\n      <td>2021-05-09 19:00</td>\n      <td>2021</td>\n      <td>5</td>\n      <td>9</td>\n      <td>19:00</td>\n      <td>8.9</td>\n      <td>...</td>\n      <td>NaN</td>\n      <td>NaN</td>\n      <td>99.79</td>\n      <td>NaN</td>\n      <td>NaN</td>\n      <td>NaN</td>\n      <td>NaN</td>\n      <td>NaN</td>\n      <td>NaN</td>\n      <td>2021-05-09 19:00:00-04:00</td>\n    </tr>\n    <tr>\n      <th>68</th>\n      <td>-79.4</td>\n      <td>43.67</td>\n      <td>TORONTO CITY</td>\n      <td>6158355</td>\n      <td>2021-05-09 20:00</td>\n      <td>2021</td>\n      <td>5</td>\n      <td>9</td>\n      <td>20:00</td>\n      <td>8.1</td>\n      <td>...</td>\n      <td>NaN</td>\n      <td>NaN</td>\n      <td>99.84</td>\n      <td>NaN</td>\n      <td>NaN</td>\n      <td>NaN</td>\n      <td>NaN</td>\n      <td>NaN</td>\n      <td>NaN</td>\n      <td>2021-05-09 20:00:00-04:00</td>\n    </tr>\n    <tr>\n      <th>69</th>\n      <td>-79.4</td>\n      <td>43.67</td>\n      <td>TORONTO CITY</td>\n      <td>6158355</td>\n      <td>2021-05-09 21:00</td>\n      <td>2021</td>\n      <td>5</td>\n      <td>9</td>\n      <td>21:00</td>\n      <td>7.8</td>\n      <td>...</td>\n      <td>NaN</td>\n      <td>NaN</td>\n      <td>99.90</td>\n      <td>NaN</td>\n      <td>NaN</td>\n      <td>NaN</td>\n      <td>NaN</td>\n      <td>NaN</td>\n      <td>NaN</td>\n      <td>2021-05-09 21:00:00-04:00</td>\n    </tr>\n    <tr>\n      <th>70</th>\n      <td>-79.4</td>\n      <td>43.67</td>\n      <td>TORONTO CITY</td>\n      <td>6158355</td>\n      <td>2021-05-09 22:00</td>\n      <td>2021</td>\n      <td>5</td>\n      <td>9</td>\n      <td>22:00</td>\n      <td>8.1</td>\n      <td>...</td>\n      <td>NaN</td>\n      <td>NaN</td>\n      <td>99.96</td>\n      <td>NaN</td>\n      <td>NaN</td>\n      <td>NaN</td>\n      <td>NaN</td>\n      <td>NaN</td>\n      <td>NaN</td>\n      <td>2021-05-09 22:00:00-04:00</td>\n    </tr>\n    <tr>\n      <th>71</th>\n      <td>-79.4</td>\n      <td>43.67</td>\n      <td>TORONTO CITY</td>\n      <td>6158355</td>\n      <td>2021-05-09 23:00</td>\n      <td>2021</td>\n      <td>5</td>\n      <td>9</td>\n      <td>23:00</td>\n      <td>8.7</td>\n      <td>...</td>\n      <td>NaN</td>\n      <td>NaN</td>\n      <td>99.92</td>\n      <td>NaN</td>\n      <td>NaN</td>\n      <td>NaN</td>\n      <td>NaN</td>\n      <td>NaN</td>\n      <td>NaN</td>\n      <td>2021-05-09 23:00:00-04:00</td>\n    </tr>\n  </tbody>\n</table>\n<p>5 rows × 31 columns</p>\n</div>"
     },
     "metadata": {},
     "execution_count": 8
    }
   ],
   "source": [
    "cwgc.get_historical(start_date, end_date).tail()"
   ]
  },
  {
   "source": [
    "# SimpleMaps"
   ],
   "cell_type": "markdown",
   "metadata": {}
  },
  {
   "cell_type": "code",
   "execution_count": 9,
   "metadata": {},
   "outputs": [],
   "source": [
    "sm = SimpleMaps([lat, lon])"
   ]
  },
  {
   "cell_type": "code",
   "execution_count": 10,
   "metadata": {},
   "outputs": [
    {
     "output_type": "execute_result",
     "data": {
      "text/plain": [
       "   target_lat  target_lon     city city_ascii      lat      lng country iso2  \\\n",
       "0   43.700111  -79.416298  Toronto    Toronto  43.7417 -79.3733  Canada   CA   \n",
       "\n",
       "  iso3 admin_name  capital  population          id  distance  \n",
       "0  CAN    Ontario      NaN   5429524.0  1124279679   0.05982  "
      ],
      "text/html": "<div>\n<style scoped>\n    .dataframe tbody tr th:only-of-type {\n        vertical-align: middle;\n    }\n\n    .dataframe tbody tr th {\n        vertical-align: top;\n    }\n\n    .dataframe thead th {\n        text-align: right;\n    }\n</style>\n<table border=\"1\" class=\"dataframe\">\n  <thead>\n    <tr style=\"text-align: right;\">\n      <th></th>\n      <th>target_lat</th>\n      <th>target_lon</th>\n      <th>city</th>\n      <th>city_ascii</th>\n      <th>lat</th>\n      <th>lng</th>\n      <th>country</th>\n      <th>iso2</th>\n      <th>iso3</th>\n      <th>admin_name</th>\n      <th>capital</th>\n      <th>population</th>\n      <th>id</th>\n      <th>distance</th>\n    </tr>\n  </thead>\n  <tbody>\n    <tr>\n      <th>0</th>\n      <td>43.700111</td>\n      <td>-79.416298</td>\n      <td>Toronto</td>\n      <td>Toronto</td>\n      <td>43.7417</td>\n      <td>-79.3733</td>\n      <td>Canada</td>\n      <td>CA</td>\n      <td>CAN</td>\n      <td>Ontario</td>\n      <td>NaN</td>\n      <td>5429524.0</td>\n      <td>1124279679</td>\n      <td>0.05982</td>\n    </tr>\n  </tbody>\n</table>\n</div>"
     },
     "metadata": {},
     "execution_count": 10
    }
   ],
   "source": [
    "sm.get_features()"
   ]
  }
 ],
 "metadata": {
  "kernelspec": {
   "name": "python3710jvsc74a57bd04cd7ab41f5fca4b9b44701077e38c5ffd31fe66a6cab21e0214b68d958d0e462",
   "display_name": "Python 3.7.10 64-bit"
  },
  "language_info": {
   "codemirror_mode": {
    "name": "ipython",
    "version": 3
   },
   "file_extension": ".py",
   "mimetype": "text/x-python",
   "name": "python",
   "nbconvert_exporter": "python",
   "pygments_lexer": "ipython3",
   "version": "3.7.10"
  },
  "metadata": {
   "interpreter": {
    "hash": "4cd7ab41f5fca4b9b44701077e38c5ffd31fe66a6cab21e0214b68d958d0e462"
   }
  }
 },
 "nbformat": 4,
 "nbformat_minor": 5
}