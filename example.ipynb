{
 "cells": [
  {
   "cell_type": "code",
   "execution_count": 1,
   "id": "15e7b630",
   "metadata": {},
   "outputs": [],
   "source": [
    "from datetime import date\n",
    "from stpd import NOAA, ClimateWeatherGC, OpenStreetMap, SimpleMaps"
   ]
  },
  {
   "cell_type": "code",
   "execution_count": 2,
   "metadata": {},
   "outputs": [
    {
     "output_type": "execute_result",
     "data": {
      "text/plain": [
       "(43.6534817, -79.3839347)"
      ]
     },
     "metadata": {},
     "execution_count": 2
    }
   ],
   "source": [
    "from OSMPythonTools.nominatim import Nominatim\n",
    "\n",
    "nominatim = Nominatim()\n",
    "best_match = nominatim.query('Toronto, Canada').toJSON()[0]\n",
    "lat, lon = float(best_match['lat']), float(best_match['lon'])\n",
    "lat, lon"
   ]
  },
  {
   "cell_type": "code",
   "execution_count": 3,
   "metadata": {},
   "outputs": [],
   "source": [
    "start_date = date(2021, 5, 7)\n",
    "end_date = date(2021, 5, 9)"
   ]
  },
  {
   "source": [
    "# NOAA"
   ],
   "cell_type": "markdown",
   "metadata": {}
  },
  {
   "cell_type": "code",
   "execution_count": 4,
   "metadata": {},
   "outputs": [],
   "source": [
    "noaa = NOAA(lat, lon)"
   ]
  },
  {
   "cell_type": "code",
   "execution_count": 5,
   "metadata": {},
   "outputs": [
    {
     "output_type": "execute_result",
     "data": {
      "text/plain": [
       "       STATION  SNOW   TMAX   TAVG  TMIN  PRCP  SNWD                        dt\n",
       "0  CA00615S001   0.0  125.0     88  50.0   0.0   0.0 2021-05-07 00:00:00-04:00\n",
       "1  CA00615S001   0.0  160.0     80   0.0   0.0   0.0 2021-05-08 00:00:00-04:00\n",
       "2  CA00615S001   0.0  130.0     70  10.0   0.0   0.0 2021-05-09 00:00:00-04:00"
      ],
      "text/html": "<div>\n<style scoped>\n    .dataframe tbody tr th:only-of-type {\n        vertical-align: middle;\n    }\n\n    .dataframe tbody tr th {\n        vertical-align: top;\n    }\n\n    .dataframe thead th {\n        text-align: right;\n    }\n</style>\n<table border=\"1\" class=\"dataframe\">\n  <thead>\n    <tr style=\"text-align: right;\">\n      <th></th>\n      <th>STATION</th>\n      <th>SNOW</th>\n      <th>TMAX</th>\n      <th>TAVG</th>\n      <th>TMIN</th>\n      <th>PRCP</th>\n      <th>SNWD</th>\n      <th>dt</th>\n    </tr>\n  </thead>\n  <tbody>\n    <tr>\n      <th>0</th>\n      <td>CA00615S001</td>\n      <td>0.0</td>\n      <td>125.0</td>\n      <td>88</td>\n      <td>50.0</td>\n      <td>0.0</td>\n      <td>0.0</td>\n      <td>2021-05-07 00:00:00-04:00</td>\n    </tr>\n    <tr>\n      <th>1</th>\n      <td>CA00615S001</td>\n      <td>0.0</td>\n      <td>160.0</td>\n      <td>80</td>\n      <td>0.0</td>\n      <td>0.0</td>\n      <td>0.0</td>\n      <td>2021-05-08 00:00:00-04:00</td>\n    </tr>\n    <tr>\n      <th>2</th>\n      <td>CA00615S001</td>\n      <td>0.0</td>\n      <td>130.0</td>\n      <td>70</td>\n      <td>10.0</td>\n      <td>0.0</td>\n      <td>0.0</td>\n      <td>2021-05-09 00:00:00-04:00</td>\n    </tr>\n  </tbody>\n</table>\n</div>"
     },
     "metadata": {},
     "execution_count": 5
    }
   ],
   "source": [
    "noaa.get_historical(start_date, end_date).tail()"
   ]
  },
  {
   "cell_type": "markdown",
   "id": "bb9cf0fb",
   "metadata": {},
   "source": [
    "# climate.weather.gc.ca"
   ]
  },
  {
   "cell_type": "code",
   "execution_count": 6,
   "id": "1d8175fe",
   "metadata": {},
   "outputs": [],
   "source": [
    "cwgc = ClimateWeatherGC(lat, lon)"
   ]
  },
  {
   "cell_type": "code",
   "execution_count": 7,
   "id": "698362f7",
   "metadata": {
    "scrolled": false
   },
   "outputs": [
    {
     "output_type": "execute_result",
     "data": {
      "text/plain": [
       "    Longitude (x)  Latitude (y)  Station Name Climate ID   Date/Time (LST)  \\\n",
       "67          -79.4         43.67  TORONTO CITY    6158355  2021-05-09 19:00   \n",
       "68          -79.4         43.67  TORONTO CITY    6158355  2021-05-09 20:00   \n",
       "69          -79.4         43.67  TORONTO CITY    6158355  2021-05-09 21:00   \n",
       "70          -79.4         43.67  TORONTO CITY    6158355  2021-05-09 22:00   \n",
       "71          -79.4         43.67  TORONTO CITY    6158355  2021-05-09 23:00   \n",
       "\n",
       "    Year  Month  Day Time (LST)  Temp (°C)  ... Visibility (km)  \\\n",
       "67  2021      5    9      19:00        8.9  ...             NaN   \n",
       "68  2021      5    9      20:00        8.1  ...             NaN   \n",
       "69  2021      5    9      21:00        7.8  ...             NaN   \n",
       "70  2021      5    9      22:00        8.1  ...             NaN   \n",
       "71  2021      5    9      23:00        8.7  ...             NaN   \n",
       "\n",
       "    Visibility Flag Stn Press (kPa)  Stn Press Flag Hmdx  Hmdx Flag  \\\n",
       "67              NaN           99.79             NaN  NaN        NaN   \n",
       "68              NaN           99.84             NaN  NaN        NaN   \n",
       "69              NaN           99.90             NaN  NaN        NaN   \n",
       "70              NaN           99.96             NaN  NaN        NaN   \n",
       "71              NaN           99.92             NaN  NaN        NaN   \n",
       "\n",
       "   Wind Chill  Wind Chill Flag Weather                        dt  \n",
       "67        NaN              NaN     NaN 2021-05-09 19:00:00-04:00  \n",
       "68        NaN              NaN     NaN 2021-05-09 20:00:00-04:00  \n",
       "69        NaN              NaN     NaN 2021-05-09 21:00:00-04:00  \n",
       "70        NaN              NaN     NaN 2021-05-09 22:00:00-04:00  \n",
       "71        NaN              NaN     NaN 2021-05-09 23:00:00-04:00  \n",
       "\n",
       "[5 rows x 31 columns]"
      ],
      "text/html": "<div>\n<style scoped>\n    .dataframe tbody tr th:only-of-type {\n        vertical-align: middle;\n    }\n\n    .dataframe tbody tr th {\n        vertical-align: top;\n    }\n\n    .dataframe thead th {\n        text-align: right;\n    }\n</style>\n<table border=\"1\" class=\"dataframe\">\n  <thead>\n    <tr style=\"text-align: right;\">\n      <th></th>\n      <th>Longitude (x)</th>\n      <th>Latitude (y)</th>\n      <th>Station Name</th>\n      <th>Climate ID</th>\n      <th>Date/Time (LST)</th>\n      <th>Year</th>\n      <th>Month</th>\n      <th>Day</th>\n      <th>Time (LST)</th>\n      <th>Temp (°C)</th>\n      <th>...</th>\n      <th>Visibility (km)</th>\n      <th>Visibility Flag</th>\n      <th>Stn Press (kPa)</th>\n      <th>Stn Press Flag</th>\n      <th>Hmdx</th>\n      <th>Hmdx Flag</th>\n      <th>Wind Chill</th>\n      <th>Wind Chill Flag</th>\n      <th>Weather</th>\n      <th>dt</th>\n    </tr>\n  </thead>\n  <tbody>\n    <tr>\n      <th>67</th>\n      <td>-79.4</td>\n      <td>43.67</td>\n      <td>TORONTO CITY</td>\n      <td>6158355</td>\n      <td>2021-05-09 19:00</td>\n      <td>2021</td>\n      <td>5</td>\n      <td>9</td>\n      <td>19:00</td>\n      <td>8.9</td>\n      <td>...</td>\n      <td>NaN</td>\n      <td>NaN</td>\n      <td>99.79</td>\n      <td>NaN</td>\n      <td>NaN</td>\n      <td>NaN</td>\n      <td>NaN</td>\n      <td>NaN</td>\n      <td>NaN</td>\n      <td>2021-05-09 19:00:00-04:00</td>\n    </tr>\n    <tr>\n      <th>68</th>\n      <td>-79.4</td>\n      <td>43.67</td>\n      <td>TORONTO CITY</td>\n      <td>6158355</td>\n      <td>2021-05-09 20:00</td>\n      <td>2021</td>\n      <td>5</td>\n      <td>9</td>\n      <td>20:00</td>\n      <td>8.1</td>\n      <td>...</td>\n      <td>NaN</td>\n      <td>NaN</td>\n      <td>99.84</td>\n      <td>NaN</td>\n      <td>NaN</td>\n      <td>NaN</td>\n      <td>NaN</td>\n      <td>NaN</td>\n      <td>NaN</td>\n      <td>2021-05-09 20:00:00-04:00</td>\n    </tr>\n    <tr>\n      <th>69</th>\n      <td>-79.4</td>\n      <td>43.67</td>\n      <td>TORONTO CITY</td>\n      <td>6158355</td>\n      <td>2021-05-09 21:00</td>\n      <td>2021</td>\n      <td>5</td>\n      <td>9</td>\n      <td>21:00</td>\n      <td>7.8</td>\n      <td>...</td>\n      <td>NaN</td>\n      <td>NaN</td>\n      <td>99.90</td>\n      <td>NaN</td>\n      <td>NaN</td>\n      <td>NaN</td>\n      <td>NaN</td>\n      <td>NaN</td>\n      <td>NaN</td>\n      <td>2021-05-09 21:00:00-04:00</td>\n    </tr>\n    <tr>\n      <th>70</th>\n      <td>-79.4</td>\n      <td>43.67</td>\n      <td>TORONTO CITY</td>\n      <td>6158355</td>\n      <td>2021-05-09 22:00</td>\n      <td>2021</td>\n      <td>5</td>\n      <td>9</td>\n      <td>22:00</td>\n      <td>8.1</td>\n      <td>...</td>\n      <td>NaN</td>\n      <td>NaN</td>\n      <td>99.96</td>\n      <td>NaN</td>\n      <td>NaN</td>\n      <td>NaN</td>\n      <td>NaN</td>\n      <td>NaN</td>\n      <td>NaN</td>\n      <td>2021-05-09 22:00:00-04:00</td>\n    </tr>\n    <tr>\n      <th>71</th>\n      <td>-79.4</td>\n      <td>43.67</td>\n      <td>TORONTO CITY</td>\n      <td>6158355</td>\n      <td>2021-05-09 23:00</td>\n      <td>2021</td>\n      <td>5</td>\n      <td>9</td>\n      <td>23:00</td>\n      <td>8.7</td>\n      <td>...</td>\n      <td>NaN</td>\n      <td>NaN</td>\n      <td>99.92</td>\n      <td>NaN</td>\n      <td>NaN</td>\n      <td>NaN</td>\n      <td>NaN</td>\n      <td>NaN</td>\n      <td>NaN</td>\n      <td>2021-05-09 23:00:00-04:00</td>\n    </tr>\n  </tbody>\n</table>\n<p>5 rows × 31 columns</p>\n</div>"
     },
     "metadata": {},
     "execution_count": 7
    }
   ],
   "source": [
    "cwgc.get_historical(start_date, end_date).tail()"
   ]
  },
  {
   "source": [
    "# OpenStreetMap"
   ],
   "cell_type": "markdown",
   "metadata": {}
  },
  {
   "cell_type": "code",
   "execution_count": 8,
   "metadata": {},
   "outputs": [],
   "source": [
    "osm = OpenStreetMap()"
   ]
  },
  {
   "cell_type": "code",
   "execution_count": 9,
   "metadata": {},
   "outputs": [
    {
     "output_type": "stream",
     "name": "stderr",
     "text": [
      "[overpass] downloading data: [timeout:25][out:json];(node[\"natural\"=\"tree\"](43.644481236610986,-79.39633064821216,43.66248214916196,-79.37153875178784);); out count;\n"
     ]
    },
    {
     "output_type": "execute_result",
     "data": {
      "text/plain": [
       "   target_lat  target_lon  count_tree\n",
       "0   43.653482  -79.383935         719"
      ],
      "text/html": "<div>\n<style scoped>\n    .dataframe tbody tr th:only-of-type {\n        vertical-align: middle;\n    }\n\n    .dataframe tbody tr th {\n        vertical-align: top;\n    }\n\n    .dataframe thead th {\n        text-align: right;\n    }\n</style>\n<table border=\"1\" class=\"dataframe\">\n  <thead>\n    <tr style=\"text-align: right;\">\n      <th></th>\n      <th>target_lat</th>\n      <th>target_lon</th>\n      <th>count_tree</th>\n    </tr>\n  </thead>\n  <tbody>\n    <tr>\n      <th>0</th>\n      <td>43.653482</td>\n      <td>-79.383935</td>\n      <td>719</td>\n    </tr>\n  </tbody>\n</table>\n</div>"
     },
     "metadata": {},
     "execution_count": 9
    }
   ],
   "source": [
    "osm.get_features(lat, lon)"
   ]
  },
  {
   "source": [
    "# SimpleMaps"
   ],
   "cell_type": "markdown",
   "metadata": {}
  },
  {
   "cell_type": "code",
   "execution_count": 10,
   "metadata": {},
   "outputs": [],
   "source": [
    "sm = SimpleMaps()"
   ]
  },
  {
   "cell_type": "code",
   "execution_count": 11,
   "metadata": {},
   "outputs": [
    {
     "output_type": "execute_result",
     "data": {
      "text/plain": [
       "   target_lat  target_lon     city city_ascii      lat      lng country iso2  \\\n",
       "0   43.653482  -79.383935  Toronto    Toronto  43.7417 -79.3733  Canada   CA   \n",
       "\n",
       "  iso3 admin_name  capital  population          id  distance  \n",
       "0  CAN    Ontario      NaN   5429524.0  1124279679  0.088857  "
      ],
      "text/html": "<div>\n<style scoped>\n    .dataframe tbody tr th:only-of-type {\n        vertical-align: middle;\n    }\n\n    .dataframe tbody tr th {\n        vertical-align: top;\n    }\n\n    .dataframe thead th {\n        text-align: right;\n    }\n</style>\n<table border=\"1\" class=\"dataframe\">\n  <thead>\n    <tr style=\"text-align: right;\">\n      <th></th>\n      <th>target_lat</th>\n      <th>target_lon</th>\n      <th>city</th>\n      <th>city_ascii</th>\n      <th>lat</th>\n      <th>lng</th>\n      <th>country</th>\n      <th>iso2</th>\n      <th>iso3</th>\n      <th>admin_name</th>\n      <th>capital</th>\n      <th>population</th>\n      <th>id</th>\n      <th>distance</th>\n    </tr>\n  </thead>\n  <tbody>\n    <tr>\n      <th>0</th>\n      <td>43.653482</td>\n      <td>-79.383935</td>\n      <td>Toronto</td>\n      <td>Toronto</td>\n      <td>43.7417</td>\n      <td>-79.3733</td>\n      <td>Canada</td>\n      <td>CA</td>\n      <td>CAN</td>\n      <td>Ontario</td>\n      <td>NaN</td>\n      <td>5429524.0</td>\n      <td>1124279679</td>\n      <td>0.088857</td>\n    </tr>\n  </tbody>\n</table>\n</div>"
     },
     "metadata": {},
     "execution_count": 11
    }
   ],
   "source": [
    "sm.get_features(lat, lon)"
   ]
  }
 ],
 "metadata": {
  "kernelspec": {
   "name": "python3710jvsc74a57bd04cd7ab41f5fca4b9b44701077e38c5ffd31fe66a6cab21e0214b68d958d0e462",
   "display_name": "Python 3.7.10 64-bit"
  },
  "language_info": {
   "codemirror_mode": {
    "name": "ipython",
    "version": 3
   },
   "file_extension": ".py",
   "mimetype": "text/x-python",
   "name": "python",
   "nbconvert_exporter": "python",
   "pygments_lexer": "ipython3",
   "version": "3.7.10"
  },
  "metadata": {
   "interpreter": {
    "hash": "4cd7ab41f5fca4b9b44701077e38c5ffd31fe66a6cab21e0214b68d958d0e462"
   }
  }
 },
 "nbformat": 4,
 "nbformat_minor": 5
}