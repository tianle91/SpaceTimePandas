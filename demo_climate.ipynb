{
 "cells": [
  {
   "source": [
    "# Climate Features"
   ],
   "cell_type": "markdown",
   "metadata": {}
  },
  {
   "cell_type": "code",
   "execution_count": 1,
   "metadata": {},
   "outputs": [
    {
     "output_type": "execute_result",
     "data": {
      "text/plain": [
       "         lat        lon        date\n",
       "0  43.653482 -79.383935  2020-01-01\n",
       "1  43.653482 -79.383935  2020-01-02"
      ],
      "text/html": "<div>\n<style scoped>\n    .dataframe tbody tr th:only-of-type {\n        vertical-align: middle;\n    }\n\n    .dataframe tbody tr th {\n        vertical-align: top;\n    }\n\n    .dataframe thead th {\n        text-align: right;\n    }\n</style>\n<table border=\"1\" class=\"dataframe\">\n  <thead>\n    <tr style=\"text-align: right;\">\n      <th></th>\n      <th>lat</th>\n      <th>lon</th>\n      <th>date</th>\n    </tr>\n  </thead>\n  <tbody>\n    <tr>\n      <th>0</th>\n      <td>43.653482</td>\n      <td>-79.383935</td>\n      <td>2020-01-01</td>\n    </tr>\n    <tr>\n      <th>1</th>\n      <td>43.653482</td>\n      <td>-79.383935</td>\n      <td>2020-01-02</td>\n    </tr>\n  </tbody>\n</table>\n</div>"
     },
     "metadata": {},
     "execution_count": 1
    }
   ],
   "source": [
    "import pandas as pd\n",
    "from stpd.utils_geocode import get_lat_lon\n",
    "from datetime import date\n",
    "\n",
    "lat, lon = get_lat_lon('Toronto, Canada')\n",
    "df = pd.DataFrame({\n",
    "    'lat': lat,\n",
    "    'lon': lon,\n",
    "    'date': [date(2020, 1, 1 + i) for i in range(2)],\n",
    "})\n",
    "df"
   ]
  },
  {
   "source": [
    "## NOAA"
   ],
   "cell_type": "markdown",
   "metadata": {}
  },
  {
   "cell_type": "code",
   "execution_count": 2,
   "metadata": {},
   "outputs": [],
   "source": [
    "from stpd.weather import NOAA"
   ]
  },
  {
   "cell_type": "code",
   "execution_count": 3,
   "metadata": {},
   "outputs": [],
   "source": [
    "noaa = NOAA(lat, lon)"
   ]
  },
  {
   "cell_type": "code",
   "execution_count": 5,
   "metadata": {},
   "outputs": [
    {
     "output_type": "stream",
     "name": "stderr",
     "text": [
      "No data available for station_id: CA00615S001 at 2020-01-01\n",
      "No data available for station_id: CA006158731 at 2020-01-01\n",
      "No data available for station_id: CA006155750 at 2020-01-01\n",
      "No data available for station_id: CA006152695 at 2020-01-01\n",
      "No data available for station_id: CA006155878 at 2020-01-01\n",
      "No data available for station_id: CA00615S001 at 2020-01-02\n",
      "No data available for station_id: CA006158731 at 2020-01-02\n",
      "No data available for station_id: CA006155750 at 2020-01-02\n",
      "No data available for station_id: CA006152695 at 2020-01-02\n",
      "No data available for station_id: CA006155878 at 2020-01-02\n"
     ]
    },
    {
     "output_type": "execute_result",
     "data": {
      "text/plain": [
       "         lat        lon        date      STATION  TMAX  TMIN   TOBS\n",
       "0  43.653482 -79.383935  2020-01-01  USC00309690  83.0  -6.0     -6\n",
       "1  43.653482 -79.383935  2020-01-02  USC00309690  44.0 -11.0     44"
      ],
      "text/html": "<div>\n<style scoped>\n    .dataframe tbody tr th:only-of-type {\n        vertical-align: middle;\n    }\n\n    .dataframe tbody tr th {\n        vertical-align: top;\n    }\n\n    .dataframe thead th {\n        text-align: right;\n    }\n</style>\n<table border=\"1\" class=\"dataframe\">\n  <thead>\n    <tr style=\"text-align: right;\">\n      <th></th>\n      <th>lat</th>\n      <th>lon</th>\n      <th>date</th>\n      <th>STATION</th>\n      <th>TMAX</th>\n      <th>TMIN</th>\n      <th>TOBS</th>\n    </tr>\n  </thead>\n  <tbody>\n    <tr>\n      <th>0</th>\n      <td>43.653482</td>\n      <td>-79.383935</td>\n      <td>2020-01-01</td>\n      <td>USC00309690</td>\n      <td>83.0</td>\n      <td>-6.0</td>\n      <td>-6</td>\n    </tr>\n    <tr>\n      <th>1</th>\n      <td>43.653482</td>\n      <td>-79.383935</td>\n      <td>2020-01-02</td>\n      <td>USC00309690</td>\n      <td>44.0</td>\n      <td>-11.0</td>\n      <td>44</td>\n    </tr>\n  </tbody>\n</table>\n</div>"
     },
     "metadata": {},
     "execution_count": 5
    }
   ],
   "source": [
    "noaa.add_features_to_df(df, 'date')"
   ]
  },
  {
   "cell_type": "markdown",
   "id": "bb9cf0fb",
   "metadata": {},
   "source": [
    "## climate.weather.gc.ca"
   ]
  },
  {
   "cell_type": "code",
   "execution_count": 6,
   "metadata": {},
   "outputs": [],
   "source": [
    "from stpd.weather import ClimateWeatherGC"
   ]
  },
  {
   "cell_type": "code",
   "execution_count": 7,
   "id": "1d8175fe",
   "metadata": {},
   "outputs": [],
   "source": [
    "cwgc = ClimateWeatherGC(lat, lon)"
   ]
  },
  {
   "cell_type": "code",
   "execution_count": 8,
   "id": "698362f7",
   "metadata": {
    "scrolled": false
   },
   "outputs": [
    {
     "output_type": "execute_result",
     "data": {
      "text/plain": [
       "         lat        lon        date  Longitude (x)  Latitude (y)  \\\n",
       "0  43.653482 -79.383935  2020-01-01          -79.4         43.67   \n",
       "1  43.653482 -79.383935  2020-01-02          -79.4         43.67   \n",
       "\n",
       "   Station Name Climate ID   Date/Time  Year  Month  ...  Total Snow (cm)  \\\n",
       "0  TORONTO CITY    6158355  2020-01-02  2020      1  ...              NaN   \n",
       "1  TORONTO CITY    6158355  2020-01-03  2020      1  ...              NaN   \n",
       "\n",
       "   Total Snow Flag  Total Precip (mm) Total Precip Flag  Snow on Grnd (cm)  \\\n",
       "0             None                0.0              None                1.0   \n",
       "1             None                0.0              None                1.0   \n",
       "\n",
       "  Snow on Grnd Flag  Dir of Max Gust (10s deg) Dir of Max Gust Flag  \\\n",
       "0              None                        NaN                    M   \n",
       "1              None                        NaN                    M   \n",
       "\n",
       "   Spd of Max Gust (km/h) Spd of Max Gust Flag  \n",
       "0                    None                    M  \n",
       "1                    None                    M  \n",
       "\n",
       "[2 rows x 34 columns]"
      ],
      "text/html": "<div>\n<style scoped>\n    .dataframe tbody tr th:only-of-type {\n        vertical-align: middle;\n    }\n\n    .dataframe tbody tr th {\n        vertical-align: top;\n    }\n\n    .dataframe thead th {\n        text-align: right;\n    }\n</style>\n<table border=\"1\" class=\"dataframe\">\n  <thead>\n    <tr style=\"text-align: right;\">\n      <th></th>\n      <th>lat</th>\n      <th>lon</th>\n      <th>date</th>\n      <th>Longitude (x)</th>\n      <th>Latitude (y)</th>\n      <th>Station Name</th>\n      <th>Climate ID</th>\n      <th>Date/Time</th>\n      <th>Year</th>\n      <th>Month</th>\n      <th>...</th>\n      <th>Total Snow (cm)</th>\n      <th>Total Snow Flag</th>\n      <th>Total Precip (mm)</th>\n      <th>Total Precip Flag</th>\n      <th>Snow on Grnd (cm)</th>\n      <th>Snow on Grnd Flag</th>\n      <th>Dir of Max Gust (10s deg)</th>\n      <th>Dir of Max Gust Flag</th>\n      <th>Spd of Max Gust (km/h)</th>\n      <th>Spd of Max Gust Flag</th>\n    </tr>\n  </thead>\n  <tbody>\n    <tr>\n      <th>0</th>\n      <td>43.653482</td>\n      <td>-79.383935</td>\n      <td>2020-01-01</td>\n      <td>-79.4</td>\n      <td>43.67</td>\n      <td>TORONTO CITY</td>\n      <td>6158355</td>\n      <td>2020-01-02</td>\n      <td>2020</td>\n      <td>1</td>\n      <td>...</td>\n      <td>NaN</td>\n      <td>None</td>\n      <td>0.0</td>\n      <td>None</td>\n      <td>1.0</td>\n      <td>None</td>\n      <td>NaN</td>\n      <td>M</td>\n      <td>None</td>\n      <td>M</td>\n    </tr>\n    <tr>\n      <th>1</th>\n      <td>43.653482</td>\n      <td>-79.383935</td>\n      <td>2020-01-02</td>\n      <td>-79.4</td>\n      <td>43.67</td>\n      <td>TORONTO CITY</td>\n      <td>6158355</td>\n      <td>2020-01-03</td>\n      <td>2020</td>\n      <td>1</td>\n      <td>...</td>\n      <td>NaN</td>\n      <td>None</td>\n      <td>0.0</td>\n      <td>None</td>\n      <td>1.0</td>\n      <td>None</td>\n      <td>NaN</td>\n      <td>M</td>\n      <td>None</td>\n      <td>M</td>\n    </tr>\n  </tbody>\n</table>\n<p>2 rows × 34 columns</p>\n</div>"
     },
     "metadata": {},
     "execution_count": 8
    }
   ],
   "source": [
    "cwgc.add_features_to_df(df, 'date')"
   ]
  }
 ],
 "metadata": {
  "kernelspec": {
   "name": "python3710jvsc74a57bd04cd7ab41f5fca4b9b44701077e38c5ffd31fe66a6cab21e0214b68d958d0e462",
   "display_name": "Python 3.7.10 64-bit"
  },
  "language_info": {
   "codemirror_mode": {
    "name": "ipython",
    "version": 3
   },
   "file_extension": ".py",
   "mimetype": "text/x-python",
   "name": "python",
   "nbconvert_exporter": "python",
   "pygments_lexer": "ipython3",
   "version": "3.7.10"
  },
  "metadata": {
   "interpreter": {
    "hash": "4cd7ab41f5fca4b9b44701077e38c5ffd31fe66a6cab21e0214b68d958d0e462"
   }
  }
 },
 "nbformat": 4,
 "nbformat_minor": 5
}