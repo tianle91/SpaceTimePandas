{
 "cells": [
  {
   "source": [
    "# Climate Features"
   ],
   "cell_type": "markdown",
   "metadata": {}
  },
  {
   "cell_type": "code",
   "execution_count": 1,
   "metadata": {},
   "outputs": [
    {
     "output_type": "stream",
     "name": "stdout",
     "text": [
      "         lat        lon        date\n0  43.653482 -79.383935  2020-01-01\n1  43.653482 -79.383935  2020-01-02\n"
     ]
    }
   ],
   "source": [
    "import pandas as pd\n",
    "from stpd.utils_geocode import get_lat_lon\n",
    "from datetime import date\n",
    "\n",
    "lat, lon = get_lat_lon('Toronto, Canada')\n",
    "df = pd.DataFrame({\n",
    "    'lat': lat,\n",
    "    'lon': lon,\n",
    "    'date': [date(2020, 1, 1 + i) for i in range(2)]\n",
    "})\n",
    "print (df)"
   ]
  },
  {
   "source": [
    "## NOAA"
   ],
   "cell_type": "markdown",
   "metadata": {}
  },
  {
   "cell_type": "code",
   "execution_count": 2,
   "metadata": {},
   "outputs": [
    {
     "output_type": "stream",
     "name": "stderr",
     "text": [
      "No data available for station_id: CA00615S001 at 2020-01-01\n",
      "No data available for station_id: CA006158731 at 2020-01-01\n",
      "No data available for station_id: CA006155750 at 2020-01-01\n",
      "No data available for station_id: CA006152695 at 2020-01-01\n",
      "No data available for station_id: CA006155878 at 2020-01-01\n",
      "No data available for station_id: CA00615S001 at 2020-01-02\n",
      "No data available for station_id: CA006158731 at 2020-01-02\n",
      "No data available for station_id: CA006155750 at 2020-01-02\n",
      "No data available for station_id: CA006152695 at 2020-01-02\n",
      "No data available for station_id: CA006155878 at 2020-01-02\n",
      "         lat        lon        date      STATION  TMAX  TMIN   TOBS\n",
      "0  43.653482 -79.383935  2020-01-01  USC00309690  83.0  -6.0     -6\n",
      "1  43.653482 -79.383935  2020-01-02  USC00309690  44.0 -11.0     44\n"
     ]
    }
   ],
   "source": [
    "from stpd.weather import NOAA\n",
    "\n",
    "noaa = NOAA()\n",
    "print (noaa.add_features_to_df(df, date_col='date', lat_col='lat', lon_col='lon'))"
   ]
  },
  {
   "cell_type": "markdown",
   "id": "bb9cf0fb",
   "metadata": {},
   "source": [
    "## climate.weather.gc.ca"
   ]
  },
  {
   "cell_type": "code",
   "execution_count": 3,
   "metadata": {},
   "outputs": [
    {
     "output_type": "stream",
     "name": "stdout",
     "text": [
      "         lat        lon        date  Longitude (x)  Latitude (y)  \\\n0  43.653482 -79.383935  2020-01-01          -79.4         43.67   \n1  43.653482 -79.383935  2020-01-02          -79.4         43.67   \n\n   Station Name Climate ID   Date/Time  Year  Month  ...  Total Snow (cm)  \\\n0  TORONTO CITY    6158355  2020-01-02  2020      1  ...              NaN   \n1  TORONTO CITY    6158355  2020-01-03  2020      1  ...              NaN   \n\n   Total Snow Flag  Total Precip (mm) Total Precip Flag  Snow on Grnd (cm)  \\\n0             None                0.0              None                1.0   \n1             None                0.0              None                1.0   \n\n  Snow on Grnd Flag  Dir of Max Gust (10s deg) Dir of Max Gust Flag  \\\n0              None                        NaN                    M   \n1              None                        NaN                    M   \n\n   Spd of Max Gust (km/h) Spd of Max Gust Flag  \n0                    None                    M  \n1                    None                    M  \n\n[2 rows x 34 columns]\n"
     ]
    }
   ],
   "source": [
    "from stpd.weather import ClimateWeatherGC\n",
    "\n",
    "cwgc = ClimateWeatherGC()\n",
    "print (cwgc.add_features_to_df(df, date_col='date', lat_col='lat', lon_col='lon'))"
   ]
  },
  {
   "cell_type": "code",
   "execution_count": null,
   "metadata": {},
   "outputs": [],
   "source": []
  }
 ],
 "metadata": {
  "kernelspec": {
   "name": "python3710jvsc74a57bd04cd7ab41f5fca4b9b44701077e38c5ffd31fe66a6cab21e0214b68d958d0e462",
   "display_name": "Python 3.7.10 64-bit"
  },
  "language_info": {
   "codemirror_mode": {
    "name": "ipython",
    "version": 3
   },
   "file_extension": ".py",
   "mimetype": "text/x-python",
   "name": "python",
   "nbconvert_exporter": "python",
   "pygments_lexer": "ipython3",
   "version": "3.7.10"
  },
  "metadata": {
   "interpreter": {
    "hash": "4cd7ab41f5fca4b9b44701077e38c5ffd31fe66a6cab21e0214b68d958d0e462"
   }
  }
 },
 "nbformat": 4,
 "nbformat_minor": 5
}