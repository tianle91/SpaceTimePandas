{
 "cells": [
  {
   "source": [
    "# Location Features"
   ],
   "cell_type": "markdown",
   "metadata": {}
  },
  {
   "cell_type": "code",
   "execution_count": 1,
   "metadata": {},
   "outputs": [
    {
     "output_type": "execute_result",
     "data": {
      "text/plain": [
       "               location_name   latitude   longitude\n",
       "0  221B Baker Street, London  51.523388   -0.158237\n",
       "1            Shanghai, China  31.232276  121.469207\n",
       "2        Halifax, NS B3J 1M3  44.648618  -63.585949"
      ],
      "text/html": "<div>\n<style scoped>\n    .dataframe tbody tr th:only-of-type {\n        vertical-align: middle;\n    }\n\n    .dataframe tbody tr th {\n        vertical-align: top;\n    }\n\n    .dataframe thead th {\n        text-align: right;\n    }\n</style>\n<table border=\"1\" class=\"dataframe\">\n  <thead>\n    <tr style=\"text-align: right;\">\n      <th></th>\n      <th>location_name</th>\n      <th>latitude</th>\n      <th>longitude</th>\n    </tr>\n  </thead>\n  <tbody>\n    <tr>\n      <th>0</th>\n      <td>221B Baker Street, London</td>\n      <td>51.523388</td>\n      <td>-0.158237</td>\n    </tr>\n    <tr>\n      <th>1</th>\n      <td>Shanghai, China</td>\n      <td>31.232276</td>\n      <td>121.469207</td>\n    </tr>\n    <tr>\n      <th>2</th>\n      <td>Halifax, NS B3J 1M3</td>\n      <td>44.648618</td>\n      <td>-63.585949</td>\n    </tr>\n  </tbody>\n</table>\n</div>"
     },
     "metadata": {},
     "execution_count": 1
    }
   ],
   "source": [
    "import pandas as pd\n",
    "from stpd.utils_geocode import add_lat_lon_to_df\n",
    "\n",
    "df = pd.DataFrame({'location_name': [\n",
    "    '221B Baker Street, London', \n",
    "    'Shanghai, China', \n",
    "    'Halifax, NS B3J 1M3',\n",
    "]})\n",
    "df = add_lat_lon_to_df(df, location_name_column='location_name')\n",
    "df"
   ]
  },
  {
   "source": [
    "## OpenStreetMap"
   ],
   "cell_type": "markdown",
   "metadata": {}
  },
  {
   "cell_type": "code",
   "execution_count": 2,
   "metadata": {},
   "outputs": [],
   "source": [
    "from stpd.location import OpenStreetMap\n",
    "\n",
    "osm = OpenStreetMap()\n",
    "osm.add_features_to_df(df=df, lat_col='latitude', lon_col='longitude')"
   ]
  },
  {
   "cell_type": "code",
   "execution_count": 3,
   "metadata": {},
   "outputs": [],
   "source": [
    "# specifying your own desired features\n",
    "osm = OpenStreetMap(feature_names=['natural=tree'])\n",
    "# equivalently:\n",
    "# osm = OpenStreetMap(feature_query_values={'natural=tree': ('node', '\"natural\"=\"tree\"')})\n",
    "osm.add_features_to_df(df=df, lat_col='latitude', lon_col='longitude')"
   ]
  },
  {
   "source": [
    "## SimpleMaps"
   ],
   "cell_type": "markdown",
   "metadata": {}
  },
  {
   "cell_type": "code",
   "execution_count": 6,
   "metadata": {},
   "outputs": [],
   "source": [
    "from stpd.location import SimpleMaps\n",
    "\n",
    "sm = SimpleMaps()\n",
    "sm.add_features_to_df(df=df, lat_col='latitude', lon_col='longitude')"
   ]
  }
 ],
 "metadata": {
  "kernelspec": {
   "name": "python3710jvsc74a57bd04cd7ab41f5fca4b9b44701077e38c5ffd31fe66a6cab21e0214b68d958d0e462",
   "display_name": "Python 3.7.10 64-bit"
  },
  "language_info": {
   "codemirror_mode": {
    "name": "ipython",
    "version": 3
   },
   "file_extension": ".py",
   "mimetype": "text/x-python",
   "name": "python",
   "nbconvert_exporter": "python",
   "pygments_lexer": "ipython3",
   "version": "3.7.10"
  },
  "metadata": {
   "interpreter": {
    "hash": "4cd7ab41f5fca4b9b44701077e38c5ffd31fe66a6cab21e0214b68d958d0e462"
   }
  }
 },
 "nbformat": 4,
 "nbformat_minor": 5
}