{
 "cells": [
  {
   "source": [
    "# Location Features"
   ],
   "cell_type": "markdown",
   "metadata": {}
  },
  {
   "cell_type": "code",
   "execution_count": 1,
   "metadata": {},
   "outputs": [
    {
     "output_type": "stream",
     "name": "stdout",
     "text": [
      "               location_name   latitude   longitude\n0  221B Baker Street, London  51.523388   -0.158237\n1            Shanghai, China  31.232276  121.469207\n2        Halifax, NS B3J 1M3  44.648618  -63.585949\n"
     ]
    }
   ],
   "source": [
    "import pandas as pd\n",
    "from stpd.utils_geocode import add_lat_lon_to_df\n",
    "\n",
    "df = pd.DataFrame({'location_name': [\n",
    "    '221B Baker Street, London', \n",
    "    'Shanghai, China', \n",
    "    'Halifax, NS B3J 1M3',\n",
    "]})\n",
    "df = add_lat_lon_to_df(df, location_name_column='location_name')\n",
    "print (df)"
   ]
  },
  {
   "source": [
    "## OpenStreetMap"
   ],
   "cell_type": "markdown",
   "metadata": {}
  },
  {
   "cell_type": "code",
   "execution_count": 2,
   "metadata": {},
   "outputs": [
    {
     "output_type": "stream",
     "name": "stdout",
     "text": [
      "               location_name   latitude   longitude  count_natural=tree  \\\n0  221B Baker Street, London  51.523388   -0.158237                 783   \n1            Shanghai, China  31.232276  121.469207                 114   \n2        Halifax, NS B3J 1M3  44.648618  -63.585949                  48   \n\n   count_natural=water  count_building=yes  count_building=house  \\\n0                   10                1459                   503   \n1                    6                1586                     0   \n2                    2                3115                    11   \n\n   count_amenity=parking  count_amenity=restaurant  count_service=driveway  \n0                     44                       135                      67  \n1                      8                       109                       9  \n2                     72                        90                      74  \n"
     ]
    }
   ],
   "source": [
    "from stpd.location import OpenStreetMap\n",
    "\n",
    "osm = OpenStreetMap()\n",
    "print (osm.add_features_to_df(df=df, lat_col='latitude', lon_col='longitude'))"
   ]
  },
  {
   "cell_type": "code",
   "execution_count": 3,
   "metadata": {},
   "outputs": [
    {
     "output_type": "stream",
     "name": "stdout",
     "text": [
      "               location_name   latitude   longitude  count_natural=tree\n0  221B Baker Street, London  51.523388   -0.158237                 783\n1            Shanghai, China  31.232276  121.469207                 114\n2        Halifax, NS B3J 1M3  44.648618  -63.585949                  48\n"
     ]
    }
   ],
   "source": [
    "# specifying your own desired features\n",
    "osm = OpenStreetMap(feature_names=['natural=tree'])\n",
    "# equivalently:\n",
    "# osm = OpenStreetMap(feature_query_values={'natural=tree': ('node', '\"natural\"=\"tree\"')})\n",
    "print (osm.add_features_to_df(df=df, lat_col='latitude', lon_col='longitude'))"
   ]
  },
  {
   "source": [
    "## SimpleMaps"
   ],
   "cell_type": "markdown",
   "metadata": {}
  },
  {
   "cell_type": "code",
   "execution_count": 4,
   "metadata": {},
   "outputs": [
    {
     "output_type": "stream",
     "name": "stdout",
     "text": [
      "               location_name   latitude   longitude     city city_ascii  \\\n0  221B Baker Street, London  51.523388   -0.158237   London     London   \n1            Shanghai, China  31.232276  121.469207   Pudong     Pudong   \n2        Halifax, NS B3J 1M3  44.648618  -63.585949  Halifax    Halifax   \n\n       lat       lng         country iso2 iso3       admin_name  capital  \\\n0  51.5072   -0.1275  United Kingdom   GB  GBR  London, City of  primary   \n1  31.2231  121.5397           China   CN  CHN         Shanghai    minor   \n2  44.6475  -63.5906          Canada   CA  CAN      Nova Scotia      NaN   \n\n   population          id  distance  \n0  10979000.0  1826645935  2.792172  \n1   5187200.0  1156644508  6.792938  \n2    403131.0  1124130981  0.389333  \n"
     ]
    }
   ],
   "source": [
    "from stpd.location import SimpleMaps\n",
    "\n",
    "sm = SimpleMaps()\n",
    "print (sm.add_features_to_df(df=df, lat_col='latitude', lon_col='longitude'))"
   ]
  }
 ],
 "metadata": {
  "kernelspec": {
   "name": "python3710jvsc74a57bd04cd7ab41f5fca4b9b44701077e38c5ffd31fe66a6cab21e0214b68d958d0e462",
   "display_name": "Python 3.7.10 64-bit"
  },
  "language_info": {
   "codemirror_mode": {
    "name": "ipython",
    "version": 3
   },
   "file_extension": ".py",
   "mimetype": "text/x-python",
   "name": "python",
   "nbconvert_exporter": "python",
   "pygments_lexer": "ipython3",
   "version": "3.7.10"
  },
  "metadata": {
   "interpreter": {
    "hash": "4cd7ab41f5fca4b9b44701077e38c5ffd31fe66a6cab21e0214b68d958d0e462"
   }
  }
 },
 "nbformat": 4,
 "nbformat_minor": 5
}