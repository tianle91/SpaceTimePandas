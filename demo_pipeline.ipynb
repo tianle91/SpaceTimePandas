{
 "metadata": {
  "language_info": {
   "codemirror_mode": {
    "name": "ipython",
    "version": 3
   },
   "file_extension": ".py",
   "mimetype": "text/x-python",
   "name": "python",
   "nbconvert_exporter": "python",
   "pygments_lexer": "ipython3",
   "version": "3.7.10"
  },
  "orig_nbformat": 2,
  "kernelspec": {
   "name": "python3710jvsc74a57bd04cd7ab41f5fca4b9b44701077e38c5ffd31fe66a6cab21e0214b68d958d0e462",
   "display_name": "Python 3.7.10 64-bit"
  },
  "metadata": {
   "interpreter": {
    "hash": "4cd7ab41f5fca4b9b44701077e38c5ffd31fe66a6cab21e0214b68d958d0e462"
   }
  }
 },
 "nbformat": 4,
 "nbformat_minor": 2,
 "cells": [
  {
   "cell_type": "code",
   "execution_count": 1,
   "metadata": {},
   "outputs": [
    {
     "output_type": "stream",
     "name": "stdout",
     "text": [
      "         location_name        date\n0      Toronto, Canada  2020-01-01\n1      Toronto, Canada  2020-01-02\n2  Halifax, NS B3J 1M3  2020-01-01\n3  Halifax, NS B3J 1M3  2020-01-02\n"
     ]
    }
   ],
   "source": [
    "import pandas as pd\n",
    "from datetime import date\n",
    "\n",
    "\n",
    "df = pd.DataFrame({'location_name': [\n",
    "    'Toronto, Canada',\n",
    "    'Halifax, NS B3J 1M3',\n",
    "]}).merge(\n",
    "    pd.DataFrame({'date': [date(2020, 1, 1 + i) for i in range(2)]}),\n",
    "    how='cross'\n",
    ")\n",
    "print (df)"
   ]
  },
  {
   "cell_type": "code",
   "execution_count": 2,
   "metadata": {},
   "outputs": [
    {
     "output_type": "stream",
     "name": "stderr",
     "text": [
      "No data available for station_id: CA00615S001 at 2020-01-01\n",
      "No data available for station_id: CA006158731 at 2020-01-01\n",
      "No data available for station_id: CA006155750 at 2020-01-01\n",
      "No data available for station_id: CA006152695 at 2020-01-01\n",
      "No data available for station_id: CA006155878 at 2020-01-01\n",
      "No data available for station_id: CA00615S001 at 2020-01-02\n",
      "No data available for station_id: CA006158731 at 2020-01-02\n",
      "No data available for station_id: CA006155750 at 2020-01-02\n",
      "No data available for station_id: CA006152695 at 2020-01-02\n",
      "No data available for station_id: CA006155878 at 2020-01-02\n",
      "No data available for station_id: CA008204453 at 2020-01-01\n",
      "No data available for station_id: CA008204800 at 2020-01-01\n",
      "No data available for station_id: CA008202251 at 2020-01-01\n",
      "No data available for station_id: CA008206222 at 2020-01-01\n",
      "No data available for station_id: CA008202000 at 2020-01-01\n",
      "No data available for station_id: CA008205774 at 2020-01-01\n",
      "No data available for station_id: CA008103201 at 2020-01-01\n",
      "No data available for station_id: CA008300301 at 2020-01-01\n",
      "No data available for station_id: CA008104901 at 2020-01-01\n",
      "No data available for station_id: CA008300497 at 2020-01-01\n",
      "No data available for station_id: CA008204453 at 2020-01-02\n",
      "No data available for station_id: CA008204800 at 2020-01-02\n",
      "No data available for station_id: CA008202251 at 2020-01-02\n",
      "No data available for station_id: CA008206222 at 2020-01-02\n",
      "No data available for station_id: CA008202000 at 2020-01-02\n",
      "No data available for station_id: CA008205774 at 2020-01-02\n",
      "No data available for station_id: CA008103201 at 2020-01-02\n",
      "No data available for station_id: CA008300301 at 2020-01-02\n",
      "No data available for station_id: CA008104901 at 2020-01-02\n",
      "No data available for station_id: CA008300497 at 2020-01-02\n"
     ]
    },
    {
     "output_type": "execute_result",
     "data": {
      "text/plain": [
       "(4, 60)"
      ]
     },
     "metadata": {},
     "execution_count": 2
    }
   ],
   "source": [
    "from stpd.location import OpenStreetMap, SimpleMaps\n",
    "from stpd.pipeline import Pipeline\n",
    "from stpd.utils_geocode import GeoCode\n",
    "from stpd.weather import NOAA, ClimateWeatherGC\n",
    "\n",
    "p = Pipeline([\n",
    "    GeoCode(location_name_col='location_name', lat_col='lat', lon_col='lon'),\n",
    "    OpenStreetMap(lat_col='lat', lon_col='lon'),\n",
    "    SimpleMaps(lat_col='lat', lon_col='lon'),\n",
    "    NOAA(date_col='date', lat_col='lat', lon_col='lon'),\n",
    "    ClimateWeatherGC(date_col='date', lat_col='lat', lon_col='lon'),\n",
    "])\n",
    "features = p.add_features_to_df(df)\n",
    "features.shape"
   ]
  },
  {
   "cell_type": "code",
   "execution_count": 3,
   "metadata": {},
   "outputs": [
    {
     "output_type": "execute_result",
     "data": {
      "text/plain": [
       "location_name                Toronto, Canada\n",
       "date                              2020-01-01\n",
       "lat                                43.653482\n",
       "lon                               -79.383935\n",
       "count_natural=tree                       719\n",
       "count_natural=water                       15\n",
       "count_building=yes                      1151\n",
       "count_building=house                      39\n",
       "count_amenity=parking                    148\n",
       "count_amenity=restaurant                 327\n",
       "count_service=driveway                    77\n",
       "city                                 Toronto\n",
       "city_ascii                           Toronto\n",
       "city_latitude                        43.7417\n",
       "city_longitude                      -79.3733\n",
       "country                               Canada\n",
       "iso2                                      CA\n",
       "iso3                                     CAN\n",
       "admin_name                           Ontario\n",
       "capital                                  NaN\n",
       "population                         5429524.0\n",
       "id                                1124279679\n",
       "distance                            9.839032\n",
       "STATION                          USC00309690\n",
       "TMAX                                    83.0\n",
       "TMIN                                    -6.0\n",
       "TOBS                                      -6\n",
       "TAVG                                    None\n",
       "PRCP                                     NaN\n",
       "Longitude (x)                          -79.4\n",
       "Latitude (y)                           43.67\n",
       "Station Name                    TORONTO CITY\n",
       "Climate ID                           6158355\n",
       "Date/Time                         2020-01-02\n",
       "Year                                    2020\n",
       "Month                                      1\n",
       "Day                                        2\n",
       "Data Quality                             NaN\n",
       "Max Temp (°C)                            6.2\n",
       "Max Temp Flag                           None\n",
       "Min Temp (°C)                            0.9\n",
       "Min Temp Flag                           None\n",
       "Mean Temp (°C)                           3.6\n",
       "Mean Temp Flag                          None\n",
       "Heat Deg Days (°C)                      14.4\n",
       "Heat Deg Days Flag                      None\n",
       "Cool Deg Days (°C)                       0.0\n",
       "Cool Deg Days Flag                      None\n",
       "Total Rain (mm)                          NaN\n",
       "Total Rain Flag                         None\n",
       "Total Snow (cm)                          NaN\n",
       "Total Snow Flag                         None\n",
       "Total Precip (mm)                        0.0\n",
       "Total Precip Flag                       None\n",
       "Snow on Grnd (cm)                        1.0\n",
       "Snow on Grnd Flag                       None\n",
       "Dir of Max Gust (10s deg)                NaN\n",
       "Dir of Max Gust Flag                       M\n",
       "Spd of Max Gust (km/h)                  None\n",
       "Spd of Max Gust Flag                       M\n",
       "Name: 0, dtype: object"
      ]
     },
     "metadata": {},
     "execution_count": 3
    }
   ],
   "source": [
    "features.iloc[0]"
   ]
  }
 ]
}