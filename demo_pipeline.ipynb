{
 "metadata": {
  "language_info": {
   "codemirror_mode": {
    "name": "ipython",
    "version": 3
   },
   "file_extension": ".py",
   "mimetype": "text/x-python",
   "name": "python",
   "nbconvert_exporter": "python",
   "pygments_lexer": "ipython3",
   "version": "3.7.10"
  },
  "orig_nbformat": 2,
  "kernelspec": {
   "name": "python3710jvsc74a57bd04cd7ab41f5fca4b9b44701077e38c5ffd31fe66a6cab21e0214b68d958d0e462",
   "display_name": "Python 3.7.10 64-bit"
  },
  "metadata": {
   "interpreter": {
    "hash": "4cd7ab41f5fca4b9b44701077e38c5ffd31fe66a6cab21e0214b68d958d0e462"
   }
  }
 },
 "nbformat": 4,
 "nbformat_minor": 2,
 "cells": [
  {
   "cell_type": "code",
   "execution_count": 1,
   "metadata": {},
   "outputs": [
    {
     "output_type": "stream",
     "name": "stdout",
     "text": [
      "         lat        lon        date\n0  43.653482 -79.383935  2020-01-01\n1  43.653482 -79.383935  2020-01-02\n"
     ]
    }
   ],
   "source": [
    "import pandas as pd\n",
    "from stpd.utils_geocode import get_lat_lon\n",
    "from datetime import date\n",
    "\n",
    "pd.set_option('display.max_colwidth', None)\n",
    "\n",
    "lat, lon = get_lat_lon('Toronto, Canada')\n",
    "df = pd.DataFrame({\n",
    "    'lat': lat,\n",
    "    'lon': lon,\n",
    "    'date': [date(2020, 1, 1 + i) for i in range(2)]\n",
    "})\n",
    "print (df)"
   ]
  },
  {
   "cell_type": "code",
   "execution_count": 2,
   "metadata": {},
   "outputs": [
    {
     "output_type": "stream",
     "name": "stderr",
     "text": [
      "No data available for station_id: CA00615S001 at 2020-01-01\n",
      "No data available for station_id: CA006158731 at 2020-01-01\n",
      "No data available for station_id: CA006155750 at 2020-01-01\n",
      "No data available for station_id: CA006152695 at 2020-01-01\n",
      "No data available for station_id: CA006155878 at 2020-01-01\n",
      "No data available for station_id: CA00615S001 at 2020-01-02\n",
      "No data available for station_id: CA006158731 at 2020-01-02\n",
      "No data available for station_id: CA006155750 at 2020-01-02\n",
      "No data available for station_id: CA006152695 at 2020-01-02\n",
      "No data available for station_id: CA006155878 at 2020-01-02\n"
     ]
    },
    {
     "output_type": "execute_result",
     "data": {
      "text/plain": [
       "(2, 66)"
      ]
     },
     "metadata": {},
     "execution_count": 2
    }
   ],
   "source": [
    "from stpd.location import OpenStreetMap, SimpleMaps\n",
    "from stpd.pipeline import Pipeline\n",
    "from stpd.weather import NOAA, ClimateWeatherGC\n",
    "\n",
    "p = Pipeline([\n",
    "    OpenStreetMap(),\n",
    "    SimpleMaps(),\n",
    "    NOAA(),\n",
    "    ClimateWeatherGC(),\n",
    "])\n",
    "features = p.add_features_to_df(df, date_col='date', lat_col='lat', lon_col='lon')\n",
    "features.shape"
   ]
  },
  {
   "cell_type": "code",
   "execution_count": 3,
   "metadata": {},
   "outputs": [
    {
     "output_type": "execute_result",
     "data": {
      "text/plain": [
       "lat                                            43.653482\n",
       "lon                                           -79.383935\n",
       "date                                          2020-01-01\n",
       "OpenStreetMap_count_natural=tree                     719\n",
       "OpenStreetMap_count_natural=water                     15\n",
       "                                                 ...    \n",
       "ClimateWeatherGC_Snow on Grnd Flag                  None\n",
       "ClimateWeatherGC_Dir of Max Gust (10s deg)           NaN\n",
       "ClimateWeatherGC_Dir of Max Gust Flag                  M\n",
       "ClimateWeatherGC_Spd of Max Gust (km/h)             None\n",
       "ClimateWeatherGC_Spd of Max Gust Flag                  M\n",
       "Name: 0, Length: 66, dtype: object"
      ]
     },
     "metadata": {},
     "execution_count": 3
    }
   ],
   "source": [
    "features.iloc[0]"
   ]
  },
  {
   "cell_type": "code",
   "execution_count": null,
   "metadata": {},
   "outputs": [],
   "source": []
  }
 ]
}