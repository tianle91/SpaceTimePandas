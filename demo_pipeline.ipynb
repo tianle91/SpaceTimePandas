{
 "metadata": {
  "language_info": {
   "codemirror_mode": {
    "name": "ipython",
    "version": 3
   },
   "file_extension": ".py",
   "mimetype": "text/x-python",
   "name": "python",
   "nbconvert_exporter": "python",
   "pygments_lexer": "ipython3",
   "version": "3.7.10"
  },
  "orig_nbformat": 2,
  "kernelspec": {
   "name": "python3710jvsc74a57bd04cd7ab41f5fca4b9b44701077e38c5ffd31fe66a6cab21e0214b68d958d0e462",
   "display_name": "Python 3.7.10 64-bit"
  },
  "metadata": {
   "interpreter": {
    "hash": "4cd7ab41f5fca4b9b44701077e38c5ffd31fe66a6cab21e0214b68d958d0e462"
   }
  }
 },
 "nbformat": 4,
 "nbformat_minor": 2,
 "cells": [
  {
   "cell_type": "code",
   "execution_count": 1,
   "metadata": {},
   "outputs": [
    {
     "output_type": "stream",
     "name": "stdout",
     "text": [
      "         lat        lon        date\n0  43.653482 -79.383935  2020-01-01\n1  43.653482 -79.383935  2020-01-02\n"
     ]
    }
   ],
   "source": [
    "import pandas as pd\n",
    "from stpd.utils_geocode import get_lat_lon\n",
    "from datetime import date\n",
    "\n",
    "pd.set_option('display.max_colwidth', None)\n",
    "\n",
    "lat, lon = get_lat_lon('Toronto, Canada')\n",
    "df = pd.DataFrame({\n",
    "    'lat': lat,\n",
    "    'lon': lon,\n",
    "    'date': [date(2020, 1, 1 + i) for i in range(2)]\n",
    "})\n",
    "print (df)"
   ]
  },
  {
   "cell_type": "code",
   "execution_count": 2,
   "metadata": {},
   "outputs": [
    {
     "output_type": "stream",
     "name": "stderr",
     "text": [
      "No data available for station_id: CA00615S001 at 2020-01-01\n",
      "No data available for station_id: CA006158731 at 2020-01-01\n",
      "No data available for station_id: CA006155750 at 2020-01-01\n",
      "No data available for station_id: CA006152695 at 2020-01-01\n",
      "No data available for station_id: CA006155878 at 2020-01-01\n",
      "No data available for station_id: CA00615S001 at 2020-01-02\n",
      "No data available for station_id: CA006158731 at 2020-01-02\n",
      "No data available for station_id: CA006155750 at 2020-01-02\n",
      "No data available for station_id: CA006152695 at 2020-01-02\n",
      "No data available for station_id: CA006155878 at 2020-01-02\n"
     ]
    },
    {
     "output_type": "execute_result",
     "data": {
      "text/plain": [
       "(2, 58)"
      ]
     },
     "metadata": {},
     "execution_count": 2
    }
   ],
   "source": [
    "from stpd.location import OpenStreetMap, SimpleMaps\n",
    "from stpd.pipeline import Pipeline\n",
    "from stpd.weather import NOAA, ClimateWeatherGC\n",
    "\n",
    "p = Pipeline([\n",
    "    OpenStreetMap(),\n",
    "    SimpleMaps(),\n",
    "    NOAA(),\n",
    "    ClimateWeatherGC(),\n",
    "])\n",
    "features = p.add_features_to_df(df, date_col='date', lat_col='lat', lon_col='lon')\n",
    "features.shape"
   ]
  },
  {
   "cell_type": "code",
   "execution_count": 3,
   "metadata": {},
   "outputs": [
    {
     "output_type": "execute_result",
     "data": {
      "text/plain": [
       "date                                            2020-01-01\n",
       "lat                                              43.653482\n",
       "lon                                             -79.383935\n",
       "OpenStreetMap_count_natural=tree                       719\n",
       "OpenStreetMap_count_natural=water                       15\n",
       "OpenStreetMap_count_building=yes                      1151\n",
       "OpenStreetMap_count_building=house                      39\n",
       "OpenStreetMap_count_amenity=parking                    148\n",
       "OpenStreetMap_count_amenity=restaurant                 327\n",
       "OpenStreetMap_count_service=driveway                    77\n",
       "SimpleMaps_lat_x                                 43.653482\n",
       "SimpleMaps_city                                    Toronto\n",
       "SimpleMaps_city_ascii                              Toronto\n",
       "SimpleMaps_lat_y                                   43.7417\n",
       "SimpleMaps_lng                                    -79.3733\n",
       "SimpleMaps_country                                  Canada\n",
       "SimpleMaps_iso2                                         CA\n",
       "SimpleMaps_iso3                                        CAN\n",
       "SimpleMaps_admin_name                              Ontario\n",
       "SimpleMaps_capital                                     NaN\n",
       "SimpleMaps_population                            5429524.0\n",
       "SimpleMaps_id                                   1124279679\n",
       "SimpleMaps_distance                               9.839032\n",
       "NOAA_STATION                                   USC00309690\n",
       "NOAA_TMAX                                             83.0\n",
       "NOAA_TMIN                                             -6.0\n",
       "NOAA_TOBS                                               -6\n",
       "ClimateWeatherGC_Longitude (x)                       -79.4\n",
       "ClimateWeatherGC_Latitude (y)                        43.67\n",
       "ClimateWeatherGC_Station Name                 TORONTO CITY\n",
       "ClimateWeatherGC_Climate ID                        6158355\n",
       "ClimateWeatherGC_Date/Time                      2020-01-02\n",
       "ClimateWeatherGC_Year                                 2020\n",
       "ClimateWeatherGC_Month                                   1\n",
       "ClimateWeatherGC_Day                                     2\n",
       "ClimateWeatherGC_Data Quality                          NaN\n",
       "ClimateWeatherGC_Max Temp (°C)                         6.2\n",
       "ClimateWeatherGC_Max Temp Flag                        None\n",
       "ClimateWeatherGC_Min Temp (°C)                         0.9\n",
       "ClimateWeatherGC_Min Temp Flag                        None\n",
       "ClimateWeatherGC_Mean Temp (°C)                        3.6\n",
       "ClimateWeatherGC_Mean Temp Flag                       None\n",
       "ClimateWeatherGC_Heat Deg Days (°C)                   14.4\n",
       "ClimateWeatherGC_Heat Deg Days Flag                   None\n",
       "ClimateWeatherGC_Cool Deg Days (°C)                    0.0\n",
       "ClimateWeatherGC_Cool Deg Days Flag                   None\n",
       "ClimateWeatherGC_Total Rain (mm)                       NaN\n",
       "ClimateWeatherGC_Total Rain Flag                      None\n",
       "ClimateWeatherGC_Total Snow (cm)                       NaN\n",
       "ClimateWeatherGC_Total Snow Flag                      None\n",
       "ClimateWeatherGC_Total Precip (mm)                     0.0\n",
       "ClimateWeatherGC_Total Precip Flag                    None\n",
       "ClimateWeatherGC_Snow on Grnd (cm)                     1.0\n",
       "ClimateWeatherGC_Snow on Grnd Flag                    None\n",
       "ClimateWeatherGC_Dir of Max Gust (10s deg)             NaN\n",
       "ClimateWeatherGC_Dir of Max Gust Flag                    M\n",
       "ClimateWeatherGC_Spd of Max Gust (km/h)               None\n",
       "ClimateWeatherGC_Spd of Max Gust Flag                    M\n",
       "Name: 0, dtype: object"
      ]
     },
     "metadata": {},
     "execution_count": 3
    }
   ],
   "source": [
    "features.iloc[0]"
   ]
  }
 ]
}