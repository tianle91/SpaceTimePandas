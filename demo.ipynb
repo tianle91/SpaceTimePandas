{
 "cells": [
  {
   "source": [
    "# Climate Features"
   ],
   "cell_type": "markdown",
   "metadata": {}
  },
  {
   "cell_type": "code",
   "execution_count": 1,
   "metadata": {},
   "outputs": [],
   "source": [
    "from stpd.utils_geocode import get_lat_lon\n",
    "from datetime import date\n",
    "\n",
    "lat, lon = get_lat_lon('Toronto, Canada')\n",
    "start_date, end_date = date(2000, 1, 1), date(2000, 1, 8)"
   ]
  },
  {
   "source": [
    "## NOAA"
   ],
   "cell_type": "markdown",
   "metadata": {}
  },
  {
   "cell_type": "code",
   "execution_count": 2,
   "metadata": {},
   "outputs": [],
   "source": [
    "from stpd.weather import NOAA"
   ]
  },
  {
   "cell_type": "code",
   "execution_count": 3,
   "metadata": {},
   "outputs": [],
   "source": [
    "noaa = NOAA(lat, lon)"
   ]
  },
  {
   "cell_type": "code",
   "execution_count": 4,
   "metadata": {},
   "outputs": [
    {
     "output_type": "stream",
     "name": "stdout",
     "text": [
      "       STATION  SNOW   TMAX  TMIN  PRCP  SNWD                        dt\n0  CA006158350   0.0   86.0   0.0   0.0   0.0 2000-01-01 00:00:00-05:00\n1  CA006158350   0.0  129.0  35.0  18.0   0.0 2000-01-02 00:00:00-05:00\n2  CA006158350   0.0   84.0  -3.0  46.0   0.0 2000-01-03 00:00:00-05:00\n3  CA006158350   0.0  105.0   6.0   0.0   0.0 2000-01-04 00:00:00-05:00\n4  CA006158350   0.0    7.0 -67.0   0.0   0.0 2000-01-05 00:00:00-05:00\n5  CA006158350   0.0   32.0 -36.0   0.0   0.0 2000-01-06 00:00:00-05:00\n6  CA006158350   2.0   20.0 -14.0   2.0   0.0 2000-01-07 00:00:00-05:00\n7  CA006158350   0.0   49.0 -42.0   0.0   0.0 2000-01-08 00:00:00-05:00\n"
     ]
    }
   ],
   "source": [
    "print (noaa.get_historical(start_date, end_date))"
   ]
  },
  {
   "cell_type": "markdown",
   "id": "bb9cf0fb",
   "metadata": {},
   "source": [
    "## climate.weather.gc.ca"
   ]
  },
  {
   "cell_type": "code",
   "execution_count": 5,
   "metadata": {},
   "outputs": [],
   "source": [
    "from stpd.weather import ClimateWeatherGC"
   ]
  },
  {
   "cell_type": "code",
   "execution_count": 6,
   "id": "1d8175fe",
   "metadata": {},
   "outputs": [],
   "source": [
    "cwgc = ClimateWeatherGC(lat, lon)"
   ]
  },
  {
   "cell_type": "code",
   "execution_count": 7,
   "id": "698362f7",
   "metadata": {
    "scrolled": false
   },
   "outputs": [
    {
     "output_type": "stream",
     "name": "stdout",
     "text": [
      "     Longitude (x)  Latitude (y)      Station Name Climate ID  \\\n0            -79.4         43.63  TORONTO ISLAND A    6158665   \n1            -79.4         43.63  TORONTO ISLAND A    6158665   \n2            -79.4         43.63  TORONTO ISLAND A    6158665   \n3            -79.4         43.63  TORONTO ISLAND A    6158665   \n4            -79.4         43.63  TORONTO ISLAND A    6158665   \n..             ...           ...               ...        ...   \n187          -79.4         43.63  TORONTO ISLAND A    6158665   \n188          -79.4         43.63  TORONTO ISLAND A    6158665   \n189          -79.4         43.63  TORONTO ISLAND A    6158665   \n190          -79.4         43.63  TORONTO ISLAND A    6158665   \n191          -79.4         43.63  TORONTO ISLAND A    6158665   \n\n      Date/Time (LST)  Year  Month  Day Time (LST)  Temp (°C)  ...  \\\n0    2000-01-01 00:00  2000      1    1      00:00        1.8  ...   \n1    2000-01-01 01:00  2000      1    1      01:00        1.6  ...   \n2    2000-01-01 02:00  2000      1    1      02:00        1.9  ...   \n3    2000-01-01 03:00  2000      1    1      03:00        1.6  ...   \n4    2000-01-01 04:00  2000      1    1      04:00        1.4  ...   \n..                ...   ...    ...  ...        ...        ...  ...   \n187  2000-01-08 19:00  2000      1    8      19:00        3.7  ...   \n188  2000-01-08 20:00  2000      1    8      20:00        4.1  ...   \n189  2000-01-08 21:00  2000      1    8      21:00        3.7  ...   \n190  2000-01-08 22:00  2000      1    8      22:00        3.7  ...   \n191  2000-01-08 23:00  2000      1    8      23:00        4.3  ...   \n\n    Visibility (km)  Visibility Flag Stn Press (kPa)  Stn Press Flag Hmdx  \\\n0              15.0              NaN          100.98             NaN  NaN   \n1              12.9              NaN          100.94             NaN  NaN   \n2              11.3              NaN          100.94             NaN  NaN   \n3               9.7              NaN          100.98             NaN  NaN   \n4               9.7              NaN          100.94             NaN  NaN   \n..              ...              ...             ...             ...  ...   \n187            15.0              NaN          100.44             NaN  NaN   \n188            15.0              NaN          100.41             NaN  NaN   \n189            15.0              NaN          100.41             NaN  NaN   \n190            15.0              NaN          100.37             NaN  NaN   \n191            15.0              NaN          100.41             NaN  NaN   \n\n     Hmdx Flag Wind Chill  Wind Chill Flag Weather                        dt  \n0          NaN        NaN              NaN     NaN 2000-01-01 00:00:00-05:00  \n1          NaN        NaN              NaN     NaN 2000-01-01 01:00:00-05:00  \n2          NaN        NaN              NaN     NaN 2000-01-01 02:00:00-05:00  \n3          NaN        NaN              NaN     NaN 2000-01-01 03:00:00-05:00  \n4          NaN        NaN              NaN     NaN 2000-01-01 04:00:00-05:00  \n..         ...        ...              ...     ...                       ...  \n187        NaN        NaN              NaN     NaN 2000-01-08 19:00:00-05:00  \n188        NaN        NaN              NaN    Snow 2000-01-08 20:00:00-05:00  \n189        NaN        NaN              NaN     NaN 2000-01-08 21:00:00-05:00  \n190        NaN        NaN              NaN     NaN 2000-01-08 22:00:00-05:00  \n191        NaN        NaN              NaN     NaN 2000-01-08 23:00:00-05:00  \n\n[192 rows x 29 columns]\n"
     ]
    }
   ],
   "source": [
    "print (cwgc.get_historical(start_date, end_date))"
   ]
  },
  {
   "source": [
    "# Location Features"
   ],
   "cell_type": "markdown",
   "metadata": {}
  },
  {
   "cell_type": "code",
   "execution_count": 8,
   "metadata": {},
   "outputs": [
    {
     "output_type": "execute_result",
     "data": {
      "text/plain": [
       "               location_name   latitude   longitude\n",
       "0  221B Baker Street, London  51.523388   -0.158237\n",
       "1            Shanghai, China  31.232276  121.469207\n",
       "2        Halifax, NS B3J 1M3  44.648618  -63.585949"
      ],
      "text/html": "<div>\n<style scoped>\n    .dataframe tbody tr th:only-of-type {\n        vertical-align: middle;\n    }\n\n    .dataframe tbody tr th {\n        vertical-align: top;\n    }\n\n    .dataframe thead th {\n        text-align: right;\n    }\n</style>\n<table border=\"1\" class=\"dataframe\">\n  <thead>\n    <tr style=\"text-align: right;\">\n      <th></th>\n      <th>location_name</th>\n      <th>latitude</th>\n      <th>longitude</th>\n    </tr>\n  </thead>\n  <tbody>\n    <tr>\n      <th>0</th>\n      <td>221B Baker Street, London</td>\n      <td>51.523388</td>\n      <td>-0.158237</td>\n    </tr>\n    <tr>\n      <th>1</th>\n      <td>Shanghai, China</td>\n      <td>31.232276</td>\n      <td>121.469207</td>\n    </tr>\n    <tr>\n      <th>2</th>\n      <td>Halifax, NS B3J 1M3</td>\n      <td>44.648618</td>\n      <td>-63.585949</td>\n    </tr>\n  </tbody>\n</table>\n</div>"
     },
     "metadata": {},
     "execution_count": 8
    }
   ],
   "source": [
    "import pandas as pd\n",
    "from stpd.utils_geocode import add_lat_lon_to_df\n",
    "\n",
    "df = pd.DataFrame({\n",
    "    'location_name': ['221B Baker Street, London', 'Shanghai, China', 'Halifax, NS B3J 1M3']\n",
    "})\n",
    "df = add_lat_lon_to_df(df, location_name_column='location_name')\n",
    "df"
   ]
  },
  {
   "source": [
    "## OpenStreetMap"
   ],
   "cell_type": "markdown",
   "metadata": {}
  },
  {
   "cell_type": "code",
   "execution_count": 9,
   "metadata": {},
   "outputs": [],
   "source": [
    "from stpd.location import OpenStreetMap"
   ]
  },
  {
   "cell_type": "code",
   "execution_count": 10,
   "metadata": {},
   "outputs": [],
   "source": [
    "osm = OpenStreetMap()"
   ]
  },
  {
   "cell_type": "code",
   "execution_count": 11,
   "metadata": {},
   "outputs": [
    {
     "output_type": "stream",
     "name": "stdout",
     "text": [
      "   target_lat  target_lon  count_natural=tree  count_natural=water  \\\n0   43.653482  -79.383935                 719                   15   \n\n   count_building=yes  count_building=house  count_amenity=parking  \\\n0                1151                    39                    148   \n\n   count_amenity=restaurant  count_service=driveway  \n0                       327                      77  \n"
     ]
    }
   ],
   "source": [
    "print (osm.get_features(lat, lon))"
   ]
  },
  {
   "cell_type": "code",
   "execution_count": 12,
   "metadata": {},
   "outputs": [],
   "source": [
    "osm = OpenStreetMap(feature_names=['natural=tree'])"
   ]
  },
  {
   "cell_type": "code",
   "execution_count": 13,
   "metadata": {},
   "outputs": [
    {
     "output_type": "stream",
     "name": "stdout",
     "text": [
      "   target_lat  target_lon  count_natural=tree\n0   43.653482  -79.383935                 719\n"
     ]
    }
   ],
   "source": [
    "print (osm.get_features(lat, lon))"
   ]
  },
  {
   "cell_type": "code",
   "execution_count": 14,
   "metadata": {},
   "outputs": [],
   "source": [
    "osm = OpenStreetMap(feature_query_values={'natural=tree': ('node', '\"natural\"=\"tree\"')})"
   ]
  },
  {
   "cell_type": "code",
   "execution_count": 15,
   "metadata": {},
   "outputs": [
    {
     "output_type": "stream",
     "name": "stdout",
     "text": [
      "   target_lat  target_lon  count_natural=tree\n0   43.653482  -79.383935                 719\n"
     ]
    }
   ],
   "source": [
    "print (osm.get_features(lat, lon))"
   ]
  },
  {
   "cell_type": "code",
   "execution_count": 16,
   "metadata": {},
   "outputs": [
    {
     "output_type": "stream",
     "name": "stdout",
     "text": [
      "               location_name   latitude   longitude  count_natural=tree\n0  221B Baker Street, London  51.523388   -0.158237                 783\n1            Shanghai, China  31.232276  121.469207                 114\n2        Halifax, NS B3J 1M3  44.648618  -63.585949                  48\n"
     ]
    }
   ],
   "source": [
    "print (osm.add_features_to_df(df=df, lat_col='latitude', lon_col='longitude'))"
   ]
  },
  {
   "source": [
    "## SimpleMaps"
   ],
   "cell_type": "markdown",
   "metadata": {}
  },
  {
   "cell_type": "code",
   "execution_count": 17,
   "metadata": {},
   "outputs": [],
   "source": [
    "from stpd.location import SimpleMaps"
   ]
  },
  {
   "cell_type": "code",
   "execution_count": 18,
   "metadata": {},
   "outputs": [],
   "source": [
    "sm = SimpleMaps()"
   ]
  },
  {
   "cell_type": "code",
   "execution_count": 19,
   "metadata": {},
   "outputs": [
    {
     "output_type": "stream",
     "name": "stdout",
     "text": [
      "   target_lat  target_lon     city city_ascii      lat      lng country iso2  \\\n0   43.653482  -79.383935  Toronto    Toronto  43.7417 -79.3733  Canada   CA   \n\n  iso3 admin_name  capital  population          id  distance  \n0  CAN    Ontario      NaN   5429524.0  1124279679  9.839032  \n"
     ]
    }
   ],
   "source": [
    "print (sm.get_features(lat, lon))"
   ]
  },
  {
   "cell_type": "code",
   "execution_count": 20,
   "metadata": {},
   "outputs": [
    {
     "output_type": "stream",
     "name": "stdout",
     "text": [
      "               location_name   latitude   longitude     city city_ascii  \\\n0  221B Baker Street, London  51.523388   -0.158237   London     London   \n1            Shanghai, China  31.232276  121.469207   Pudong     Pudong   \n2        Halifax, NS B3J 1M3  44.648618  -63.585949  Halifax    Halifax   \n\n       lat       lng         country iso2 iso3       admin_name  capital  \\\n0  51.5072   -0.1275  United Kingdom   GB  GBR  London, City of  primary   \n1  31.2231  121.5397           China   CN  CHN         Shanghai    minor   \n2  44.6475  -63.5906          Canada   CA  CAN      Nova Scotia      NaN   \n\n   population          id  distance  \n0  10979000.0  1826645935  2.792172  \n1   5187200.0  1156644508  6.792938  \n2    403131.0  1124130981  0.389333  \n"
     ]
    }
   ],
   "source": [
    "print (sm.add_features_to_df(df=df, lat_col='latitude', lon_col='longitude'))"
   ]
  }
 ],
 "metadata": {
  "kernelspec": {
   "name": "python3710jvsc74a57bd04cd7ab41f5fca4b9b44701077e38c5ffd31fe66a6cab21e0214b68d958d0e462",
   "display_name": "Python 3.7.10 64-bit"
  },
  "language_info": {
   "codemirror_mode": {
    "name": "ipython",
    "version": 3
   },
   "file_extension": ".py",
   "mimetype": "text/x-python",
   "name": "python",
   "nbconvert_exporter": "python",
   "pygments_lexer": "ipython3",
   "version": "3.7.10"
  },
  "metadata": {
   "interpreter": {
    "hash": "4cd7ab41f5fca4b9b44701077e38c5ffd31fe66a6cab21e0214b68d958d0e462"
   }
  }
 },
 "nbformat": 4,
 "nbformat_minor": 5
}