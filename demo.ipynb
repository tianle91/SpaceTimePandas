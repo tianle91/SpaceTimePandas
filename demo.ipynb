{
 "cells": [
  {
   "cell_type": "code",
   "execution_count": 1,
   "metadata": {},
   "outputs": [
    {
     "output_type": "execute_result",
     "data": {
      "text/plain": [
       "(43.6534817, -79.3839347)"
      ]
     },
     "metadata": {},
     "execution_count": 1
    }
   ],
   "source": [
    "from stpd.utils_geocode import get_lat_lon\n",
    "\n",
    "lat, lon = get_lat_lon('Toronto, Canada')\n",
    "lat, lon"
   ]
  },
  {
   "cell_type": "code",
   "execution_count": 2,
   "metadata": {},
   "outputs": [],
   "source": [
    "from datetime import date\n",
    "\n",
    "start_date = date(2021, 5, 7)\n",
    "end_date = date(2021, 5, 9)"
   ]
  },
  {
   "source": [
    "# NOAA"
   ],
   "cell_type": "markdown",
   "metadata": {}
  },
  {
   "cell_type": "code",
   "execution_count": 3,
   "metadata": {},
   "outputs": [],
   "source": [
    "from stpd.weather import NOAA"
   ]
  },
  {
   "cell_type": "code",
   "execution_count": 4,
   "metadata": {},
   "outputs": [],
   "source": [
    "noaa = NOAA(lat, lon)"
   ]
  },
  {
   "cell_type": "code",
   "execution_count": 5,
   "metadata": {},
   "outputs": [
    {
     "output_type": "stream",
     "name": "stdout",
     "text": [
      "       STATION  SNOW   TMAX   TAVG  TMIN  PRCP  SNWD                        dt\n0  CA00615S001   0.0  125.0     88  50.0   0.0   0.0 2021-05-07 00:00:00-04:00\n1  CA00615S001   0.0  160.0     80   0.0   0.0   0.0 2021-05-08 00:00:00-04:00\n2  CA00615S001   0.0  130.0     70  10.0   0.0   0.0 2021-05-09 00:00:00-04:00\n"
     ]
    }
   ],
   "source": [
    "print (noaa.get_historical(start_date, end_date))"
   ]
  },
  {
   "cell_type": "markdown",
   "id": "bb9cf0fb",
   "metadata": {},
   "source": [
    "# climate.weather.gc.ca"
   ]
  },
  {
   "cell_type": "code",
   "execution_count": 6,
   "metadata": {},
   "outputs": [],
   "source": [
    "from stpd.weather import ClimateWeatherGC"
   ]
  },
  {
   "cell_type": "code",
   "execution_count": 7,
   "id": "1d8175fe",
   "metadata": {},
   "outputs": [],
   "source": [
    "cwgc = ClimateWeatherGC(lat, lon)"
   ]
  },
  {
   "cell_type": "code",
   "execution_count": 8,
   "id": "698362f7",
   "metadata": {
    "scrolled": false
   },
   "outputs": [
    {
     "output_type": "stream",
     "name": "stdout",
     "text": [
      "    Longitude (x)  Latitude (y)  Station Name Climate ID   Date/Time (LST)  \\\n0           -79.4         43.67  TORONTO CITY    6158355  2021-05-07 00:00   \n1           -79.4         43.67  TORONTO CITY    6158355  2021-05-07 01:00   \n2           -79.4         43.67  TORONTO CITY    6158355  2021-05-07 02:00   \n3           -79.4         43.67  TORONTO CITY    6158355  2021-05-07 03:00   \n4           -79.4         43.67  TORONTO CITY    6158355  2021-05-07 04:00   \n..            ...           ...           ...        ...               ...   \n67          -79.4         43.67  TORONTO CITY    6158355  2021-05-09 19:00   \n68          -79.4         43.67  TORONTO CITY    6158355  2021-05-09 20:00   \n69          -79.4         43.67  TORONTO CITY    6158355  2021-05-09 21:00   \n70          -79.4         43.67  TORONTO CITY    6158355  2021-05-09 22:00   \n71          -79.4         43.67  TORONTO CITY    6158355  2021-05-09 23:00   \n\n    Year  Month  Day Time (LST)  Temp (°C)  ... Visibility (km)  \\\n0   2021      5    7      00:00        9.3  ...             NaN   \n1   2021      5    7      01:00        8.9  ...             NaN   \n2   2021      5    7      02:00        8.7  ...             NaN   \n3   2021      5    7      03:00        8.2  ...             NaN   \n4   2021      5    7      04:00        7.9  ...             NaN   \n..   ...    ...  ...        ...        ...  ...             ...   \n67  2021      5    9      19:00        8.9  ...             NaN   \n68  2021      5    9      20:00        8.1  ...             NaN   \n69  2021      5    9      21:00        7.8  ...             NaN   \n70  2021      5    9      22:00        8.1  ...             NaN   \n71  2021      5    9      23:00        8.7  ...             NaN   \n\n    Visibility Flag Stn Press (kPa)  Stn Press Flag Hmdx  Hmdx Flag  \\\n0               NaN          100.22             NaN  NaN        NaN   \n1               NaN          100.19             NaN  NaN        NaN   \n2               NaN          100.13             NaN  NaN        NaN   \n3               NaN          100.11             NaN  NaN        NaN   \n4               NaN          100.10             NaN  NaN        NaN   \n..              ...             ...             ...  ...        ...   \n67              NaN           99.79             NaN  NaN        NaN   \n68              NaN           99.84             NaN  NaN        NaN   \n69              NaN           99.90             NaN  NaN        NaN   \n70              NaN           99.96             NaN  NaN        NaN   \n71              NaN           99.92             NaN  NaN        NaN   \n\n   Wind Chill  Wind Chill Flag Weather                        dt  \n0         NaN              NaN     NaN 2021-05-07 00:00:00-04:00  \n1         NaN              NaN     NaN 2021-05-07 01:00:00-04:00  \n2         NaN              NaN     NaN 2021-05-07 02:00:00-04:00  \n3         NaN              NaN     NaN 2021-05-07 03:00:00-04:00  \n4         NaN              NaN     NaN 2021-05-07 04:00:00-04:00  \n..        ...              ...     ...                       ...  \n67        NaN              NaN     NaN 2021-05-09 19:00:00-04:00  \n68        NaN              NaN     NaN 2021-05-09 20:00:00-04:00  \n69        NaN              NaN     NaN 2021-05-09 21:00:00-04:00  \n70        NaN              NaN     NaN 2021-05-09 22:00:00-04:00  \n71        NaN              NaN     NaN 2021-05-09 23:00:00-04:00  \n\n[72 rows x 31 columns]\n"
     ]
    }
   ],
   "source": [
    "print (cwgc.get_historical(start_date, end_date))"
   ]
  },
  {
   "source": [
    "# OpenStreetMap"
   ],
   "cell_type": "markdown",
   "metadata": {}
  },
  {
   "cell_type": "code",
   "execution_count": 9,
   "metadata": {},
   "outputs": [],
   "source": [
    "from stpd.location import OpenStreetMap"
   ]
  },
  {
   "cell_type": "code",
   "execution_count": 10,
   "metadata": {},
   "outputs": [],
   "source": [
    "osm = OpenStreetMap()"
   ]
  },
  {
   "cell_type": "code",
   "execution_count": 11,
   "metadata": {},
   "outputs": [
    {
     "output_type": "stream",
     "name": "stdout",
     "text": [
      "   target_lat  target_lon  count_natural=tree  count_natural=water  \\\n0   43.653482  -79.383935                 719                   15   \n\n   count_building=yes  count_building=house  count_amenity=parking  \\\n0                1151                    39                    148   \n\n   count_amenity=restaurant  count_service=driveway  \n0                       327                      77  \n"
     ]
    }
   ],
   "source": [
    "print (osm.get_features(lat, lon))"
   ]
  },
  {
   "cell_type": "code",
   "execution_count": 12,
   "metadata": {},
   "outputs": [],
   "source": [
    "osm = OpenStreetMap(feature_names=['natural=tree'])"
   ]
  },
  {
   "cell_type": "code",
   "execution_count": 13,
   "metadata": {},
   "outputs": [
    {
     "output_type": "stream",
     "name": "stdout",
     "text": [
      "   target_lat  target_lon  count_natural=tree\n0   43.653482  -79.383935                 719\n"
     ]
    }
   ],
   "source": [
    "print (osm.get_features(lat, lon))"
   ]
  },
  {
   "cell_type": "code",
   "execution_count": 14,
   "metadata": {},
   "outputs": [],
   "source": [
    "osm = OpenStreetMap(feature_query_values={'natural=tree': ('node', '\"natural\"=\"tree\"')})"
   ]
  },
  {
   "cell_type": "code",
   "execution_count": 15,
   "metadata": {},
   "outputs": [
    {
     "output_type": "stream",
     "name": "stdout",
     "text": [
      "   target_lat  target_lon  count_natural=tree\n0   43.653482  -79.383935                 719\n"
     ]
    }
   ],
   "source": [
    "print (osm.get_features(lat, lon))"
   ]
  },
  {
   "source": [
    "# SimpleMaps"
   ],
   "cell_type": "markdown",
   "metadata": {}
  },
  {
   "cell_type": "code",
   "execution_count": 16,
   "metadata": {},
   "outputs": [],
   "source": [
    "from stpd.location import SimpleMaps"
   ]
  },
  {
   "cell_type": "code",
   "execution_count": 17,
   "metadata": {},
   "outputs": [],
   "source": [
    "sm = SimpleMaps()"
   ]
  },
  {
   "cell_type": "code",
   "execution_count": 18,
   "metadata": {},
   "outputs": [
    {
     "output_type": "stream",
     "name": "stdout",
     "text": [
      "   target_lat  target_lon     city city_ascii      lat      lng country iso2  \\\n0   43.653482  -79.383935  Toronto    Toronto  43.7417 -79.3733  Canada   CA   \n\n  iso3 admin_name  capital  population          id  distance  \n0  CAN    Ontario      NaN   5429524.0  1124279679  0.088857  \n"
     ]
    }
   ],
   "source": [
    "print (sm.get_features(lat, lon))"
   ]
  }
 ],
 "metadata": {
  "kernelspec": {
   "name": "python3710jvsc74a57bd04cd7ab41f5fca4b9b44701077e38c5ffd31fe66a6cab21e0214b68d958d0e462",
   "display_name": "Python 3.7.10 64-bit"
  },
  "language_info": {
   "codemirror_mode": {
    "name": "ipython",
    "version": 3
   },
   "file_extension": ".py",
   "mimetype": "text/x-python",
   "name": "python",
   "nbconvert_exporter": "python",
   "pygments_lexer": "ipython3",
   "version": "3.7.10"
  },
  "metadata": {
   "interpreter": {
    "hash": "4cd7ab41f5fca4b9b44701077e38c5ffd31fe66a6cab21e0214b68d958d0e462"
   }
  }
 },
 "nbformat": 4,
 "nbformat_minor": 5
}