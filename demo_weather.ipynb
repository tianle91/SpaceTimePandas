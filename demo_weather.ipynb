{
 "cells": [
  {
   "source": [
    "# Climate Features"
   ],
   "cell_type": "markdown",
   "metadata": {}
  },
  {
   "cell_type": "code",
   "execution_count": 1,
   "metadata": {},
   "outputs": [
    {
     "output_type": "stream",
     "name": "stdout",
     "text": [
      "         location_name        lat        lon        date\n0      Toronto, Canada  43.653482 -79.383935  2020-01-01\n1      Toronto, Canada  43.653482 -79.383935  2020-01-02\n2  Halifax, NS B3J 1M3  44.648618 -63.585949  2020-01-01\n3  Halifax, NS B3J 1M3  44.648618 -63.585949  2020-01-02\n"
     ]
    }
   ],
   "source": [
    "import pandas as pd\n",
    "from stpd.utils_geocode import GeoCode\n",
    "from datetime import date\n",
    "\n",
    "\n",
    "df = pd.DataFrame({'location_name': [\n",
    "    'Toronto, Canada',\n",
    "    'Halifax, NS B3J 1M3',\n",
    "]})\n",
    "df = GeoCode(location_name_col='location_name', lat_col='lat', lon_col='lon').add_features_to_df(df)\n",
    "df = df.merge(\n",
    "    pd.DataFrame({'date': [date(2020, 1, 1 + i) for i in range(2)]}),\n",
    "    how='cross'\n",
    ")\n",
    "print (df)"
   ]
  },
  {
   "source": [
    "## NOAA"
   ],
   "cell_type": "markdown",
   "metadata": {}
  },
  {
   "cell_type": "code",
   "execution_count": 2,
   "metadata": {},
   "outputs": [
    {
     "output_type": "stream",
     "name": "stderr",
     "text": [
      "No data available for station_id: CA00615S001 at 2020-01-01\n",
      "No data available for station_id: CA006158731 at 2020-01-01\n",
      "No data available for station_id: CA006155750 at 2020-01-01\n",
      "No data available for station_id: CA006152695 at 2020-01-01\n",
      "No data available for station_id: CA006155878 at 2020-01-01\n",
      "No data available for station_id: CA00615S001 at 2020-01-02\n",
      "No data available for station_id: CA006158731 at 2020-01-02\n",
      "No data available for station_id: CA006155750 at 2020-01-02\n",
      "No data available for station_id: CA006152695 at 2020-01-02\n",
      "No data available for station_id: CA006155878 at 2020-01-02\n",
      "No data available for station_id: CA008204453 at 2020-01-01\n",
      "No data available for station_id: CA008204800 at 2020-01-01\n",
      "No data available for station_id: CA008202251 at 2020-01-01\n",
      "No data available for station_id: CA008206222 at 2020-01-01\n",
      "No data available for station_id: CA008202000 at 2020-01-01\n",
      "No data available for station_id: CA008205774 at 2020-01-01\n",
      "No data available for station_id: CA008103201 at 2020-01-01\n",
      "No data available for station_id: CA008300301 at 2020-01-01\n",
      "No data available for station_id: CA008104901 at 2020-01-01\n",
      "No data available for station_id: CA008300497 at 2020-01-01\n",
      "No data available for station_id: CA008204453 at 2020-01-02\n",
      "No data available for station_id: CA008204800 at 2020-01-02\n",
      "No data available for station_id: CA008202251 at 2020-01-02\n",
      "No data available for station_id: CA008206222 at 2020-01-02\n",
      "No data available for station_id: CA008202000 at 2020-01-02\n",
      "No data available for station_id: CA008205774 at 2020-01-02\n",
      "No data available for station_id: CA008103201 at 2020-01-02\n",
      "No data available for station_id: CA008300301 at 2020-01-02\n",
      "No data available for station_id: CA008104901 at 2020-01-02\n",
      "No data available for station_id: CA008300497 at 2020-01-02\n",
      "       STATION  TMAX  TMIN   TOBS        __TARGET_DATE_COL__  \\\n",
      "0  USC00309690  83.0  -6.0     -6  2020-01-01 00:00:00-05:00   \n",
      "1  USC00309690  44.0 -11.0     44  2020-01-02 00:00:00-05:00   \n",
      "2  CA008206495  74.0   3.0    NaN  2020-01-01 00:00:00-04:00   \n",
      "3  CA008206495  45.0  12.0    NaN  2020-01-02 00:00:00-04:00   \n",
      "\n",
      "   __TARGET_LAT_COL__  __TARGET_LON_COL__   TAVG  PRCP  \n",
      "0           43.653482          -79.383935    NaN   NaN  \n",
      "1           43.653482          -79.383935    NaN   NaN  \n",
      "2           44.648618          -63.585949     36  36.0  \n",
      "3           44.648618          -63.585949     32   0.0  \n",
      "         location_name        lat        lon        date      STATION  TMAX  \\\n",
      "0      Toronto, Canada  43.653482 -79.383935  2020-01-01  USC00309690  83.0   \n",
      "1      Toronto, Canada  43.653482 -79.383935  2020-01-02  USC00309690  44.0   \n",
      "2  Halifax, NS B3J 1M3  44.648618 -63.585949  2020-01-01  CA008206495  74.0   \n",
      "3  Halifax, NS B3J 1M3  44.648618 -63.585949  2020-01-02  CA008206495  45.0   \n",
      "\n",
      "   TMIN   TOBS   TAVG  PRCP  \n",
      "0  -6.0     -6   None   NaN  \n",
      "1 -11.0     44   None   NaN  \n",
      "2   3.0   None     36  36.0  \n",
      "3  12.0   None     32   0.0  \n"
     ]
    }
   ],
   "source": [
    "from stpd.weather import NOAA\n",
    "\n",
    "noaa = NOAA(date_col='date', lat_col='lat', lon_col='lon')\n",
    "print (noaa.add_features_to_df(df))"
   ]
  },
  {
   "cell_type": "markdown",
   "id": "bb9cf0fb",
   "metadata": {},
   "source": [
    "## climate.weather.gc.ca"
   ]
  },
  {
   "cell_type": "code",
   "execution_count": 3,
   "metadata": {},
   "outputs": [
    {
     "output_type": "stream",
     "name": "stdout",
     "text": [
      "      Longitude (x)  Latitude (y)      Station Name Climate ID   Date/Time  \\\n0            -79.40         43.67      TORONTO CITY    6158355  2020-01-01   \n1            -79.40         43.67      TORONTO CITY    6158355  2020-01-02   \n2            -79.40         43.67      TORONTO CITY    6158355  2020-01-03   \n3            -79.40         43.67      TORONTO CITY    6158355  2020-01-04   \n4            -79.40         43.67      TORONTO CITY    6158355  2020-01-05   \n...             ...           ...               ...        ...         ...   \n1459         -63.58         44.66  HALIFAX DOCKYARD    8202240  2020-12-27   \n1460         -63.58         44.66  HALIFAX DOCKYARD    8202240  2020-12-28   \n1461         -63.58         44.66  HALIFAX DOCKYARD    8202240  2020-12-29   \n1462         -63.58         44.66  HALIFAX DOCKYARD    8202240  2020-12-30   \n1463         -63.58         44.66  HALIFAX DOCKYARD    8202240  2020-12-31   \n\n      Year  Month  Day  Data Quality  Max Temp (°C)  ... Total Precip Flag  \\\n0     2020      1    1           NaN            1.0  ...               NaN   \n1     2020      1    2           NaN            6.2  ...               NaN   \n2     2020      1    3           NaN            7.7  ...               NaN   \n3     2020      1    4           NaN            3.6  ...               NaN   \n4     2020      1    5           NaN            1.9  ...               NaN   \n...    ...    ...  ...           ...            ...  ...               ...   \n1459  2020     12   27           NaN            3.7  ...               NaN   \n1460  2020     12   28           NaN            7.3  ...               NaN   \n1461  2020     12   29           NaN            8.4  ...               NaN   \n1462  2020     12   30           NaN            3.0  ...               NaN   \n1463  2020     12   31           NaN            9.3  ...               NaN   \n\n      Snow on Grnd (cm) Snow on Grnd Flag  Dir of Max Gust (10s deg)  \\\n0                   1.0               NaN                        NaN   \n1                   1.0               NaN                        NaN   \n2                   1.0               NaN                        NaN   \n3                   2.0               NaN                        NaN   \n4                   2.0               NaN                        NaN   \n...                 ...               ...                        ...   \n1459                NaN               NaN                       26.0   \n1460                NaN               NaN                       15.0   \n1461                NaN               NaN                       33.0   \n1462                NaN               NaN                       28.0   \n1463                NaN               NaN                       21.0   \n\n     Dir of Max Gust Flag  Spd of Max Gust (km/h) Spd of Max Gust Flag  \\\n0                       M                     NaN                    M   \n1                       M                     NaN                    M   \n2                       M                     NaN                    M   \n3                       M                     NaN                    M   \n4                       M                     NaN                    M   \n...                   ...                     ...                  ...   \n1459                  NaN                      33                  NaN   \n1460                  NaN                      35                  NaN   \n1461                  NaN                      57                  NaN   \n1462                  NaN                      46                  NaN   \n1463                  NaN                      56                  NaN   \n\n            __TARGET_DATE_COL__ __TARGET_LAT_COL__  __TARGET_LON_COL__  \n0     2019-12-31 19:00:00-05:00          43.653482          -79.383935  \n1     2020-01-01 19:00:00-05:00          43.653482          -79.383935  \n2     2020-01-02 19:00:00-05:00          43.653482          -79.383935  \n3     2020-01-03 19:00:00-05:00          43.653482          -79.383935  \n4     2020-01-04 19:00:00-05:00          43.653482          -79.383935  \n...                         ...                ...                 ...  \n1459  2020-12-26 20:00:00-04:00          44.648618          -63.585949  \n1460  2020-12-27 20:00:00-04:00          44.648618          -63.585949  \n1461  2020-12-28 20:00:00-04:00          44.648618          -63.585949  \n1462  2020-12-29 20:00:00-04:00          44.648618          -63.585949  \n1463  2020-12-30 20:00:00-04:00          44.648618          -63.585949  \n\n[1464 rows x 34 columns]\n         location_name        lat        lon        date  Longitude (x)  \\\n0      Toronto, Canada  43.653482 -79.383935  2020-01-01         -79.40   \n1      Toronto, Canada  43.653482 -79.383935  2020-01-02         -79.40   \n2  Halifax, NS B3J 1M3  44.648618 -63.585949  2020-01-01         -63.58   \n3  Halifax, NS B3J 1M3  44.648618 -63.585949  2020-01-02         -63.58   \n\n   Latitude (y)      Station Name Climate ID   Date/Time  Year  ...  \\\n0         43.67      TORONTO CITY    6158355  2020-01-02  2020  ...   \n1         43.67      TORONTO CITY    6158355  2020-01-03  2020  ...   \n2         44.66  HALIFAX DOCKYARD    8202240  2020-01-02  2020  ...   \n3         44.66  HALIFAX DOCKYARD    8202240  2020-01-03  2020  ...   \n\n   Total Snow (cm)  Total Snow Flag  Total Precip (mm)  Total Precip Flag  \\\n0              NaN             None                0.0               None   \n1              NaN             None                0.0               None   \n2              NaN             None                NaN               None   \n3              NaN             None                NaN               None   \n\n  Snow on Grnd (cm)  Snow on Grnd Flag Dir of Max Gust (10s deg)  \\\n0               1.0               None                       NaN   \n1               1.0               None                       NaN   \n2               NaN               None                      29.0   \n3               NaN               None                       NaN   \n\n   Dir of Max Gust Flag Spd of Max Gust (km/h)  Spd of Max Gust Flag  \n0                     M                   None                     M  \n1                     M                   None                     M  \n2                  None                     46                  None  \n3                  None                   None                  None  \n\n[4 rows x 35 columns]\n"
     ]
    }
   ],
   "source": [
    "from stpd.weather import ClimateWeatherGC\n",
    "\n",
    "cwgc = ClimateWeatherGC(date_col='date', lat_col='lat', lon_col='lon')\n",
    "print (cwgc.add_features_to_df(df))"
   ]
  }
 ],
 "metadata": {
  "kernelspec": {
   "name": "python3710jvsc74a57bd04cd7ab41f5fca4b9b44701077e38c5ffd31fe66a6cab21e0214b68d958d0e462",
   "display_name": "Python 3.7.10 64-bit"
  },
  "language_info": {
   "codemirror_mode": {
    "name": "ipython",
    "version": 3
   },
   "file_extension": ".py",
   "mimetype": "text/x-python",
   "name": "python",
   "nbconvert_exporter": "python",
   "pygments_lexer": "ipython3",
   "version": "3.7.10"
  },
  "metadata": {
   "interpreter": {
    "hash": "4cd7ab41f5fca4b9b44701077e38c5ffd31fe66a6cab21e0214b68d958d0e462"
   }
  }
 },
 "nbformat": 4,
 "nbformat_minor": 5
}